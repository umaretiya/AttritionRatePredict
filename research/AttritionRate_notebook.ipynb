{
 "cells": [
  {
   "cell_type": "code",
   "execution_count": 41,
   "id": "34140f2c",
   "metadata": {},
   "outputs": [],
   "source": [
    "import pandas as pd\n",
    "import numpy as np\n",
    "import os\n",
    "import matplotlib.pyplot as plt\n",
    "import seaborn as sns\n",
    "%matplotlib inline"
   ]
  },
  {
   "cell_type": "code",
   "execution_count": 169,
   "id": "f0e09416",
   "metadata": {},
   "outputs": [
    {
     "data": {
      "text/plain": [
       "'1.0.2'"
      ]
     },
     "execution_count": 169,
     "metadata": {},
     "output_type": "execute_result"
    }
   ],
   "source": [
    "import sklearn\n",
    "sklearn.__version__"
   ]
  },
  {
   "cell_type": "code",
   "execution_count": 170,
   "id": "df2b603e",
   "metadata": {},
   "outputs": [
    {
     "name": "stdout",
     "output_type": "stream",
     "text": [
      "Requirement already satisfied: scikit-learn in c:\\users\\lenovo\\anaconda3\\lib\\site-packages (1.0.2)"
     ]
    },
    {
     "name": "stderr",
     "output_type": "stream",
     "text": [
      "ERROR: Could not install packages due to an OSError: [WinError 5] Access is denied: 'C:\\\\Users\\\\LENOVO\\\\anaconda3\\\\Lib\\\\site-packages\\\\~klearn\\\\decomposition\\\\_cdnmf_fast.cp39-win_amd64.pyd'\n",
      "Consider using the `--user` option or check the permissions.\n",
      "\n"
     ]
    },
    {
     "name": "stdout",
     "output_type": "stream",
     "text": [
      "\n",
      "Collecting scikit-learn\n",
      "  Using cached scikit_learn-1.1.2-cp39-cp39-win_amd64.whl (7.4 MB)\n",
      "Requirement already satisfied: threadpoolctl>=2.0.0 in c:\\users\\lenovo\\anaconda3\\lib\\site-packages (from scikit-learn) (2.2.0)\n",
      "Requirement already satisfied: scipy>=1.3.2 in c:\\users\\lenovo\\anaconda3\\lib\\site-packages (from scikit-learn) (1.9.1)\n",
      "Requirement already satisfied: joblib>=1.0.0 in c:\\users\\lenovo\\anaconda3\\lib\\site-packages (from scikit-learn) (1.1.0)\n",
      "Requirement already satisfied: numpy>=1.17.3 in c:\\users\\lenovo\\anaconda3\\lib\\site-packages (from scikit-learn) (1.21.5)\n",
      "Installing collected packages: scikit-learn\n",
      "  Attempting uninstall: scikit-learn\n",
      "    Found existing installation: scikit-learn 1.0.2\n",
      "    Uninstalling scikit-learn-1.0.2:\n",
      "      Successfully uninstalled scikit-learn-1.0.2\n"
     ]
    }
   ],
   "source": [
    "!pip install -U scikit-learn"
   ]
  },
  {
   "cell_type": "code",
   "execution_count": null,
   "id": "96b20ea9",
   "metadata": {},
   "outputs": [],
   "source": [
    "import sklearn\n",
    "sklearn.__version__"
   ]
  },
  {
   "cell_type": "code",
   "execution_count": 42,
   "id": "2c5f5d7f",
   "metadata": {},
   "outputs": [],
   "source": [
    "datadir = \"D:\\DataScience-60\\AttritionRatePredict\"\n",
    "filename = \"Table_1.csv\"\n",
    "filePath  = os.path.join(datadir, filename)\n",
    "df = pd.read_csv(filePath)"
   ]
  },
  {
   "cell_type": "code",
   "execution_count": 43,
   "id": "81cc5a7a",
   "metadata": {},
   "outputs": [
    {
     "data": {
      "text/html": [
       "<div>\n",
       "<style scoped>\n",
       "    .dataframe tbody tr th:only-of-type {\n",
       "        vertical-align: middle;\n",
       "    }\n",
       "\n",
       "    .dataframe tbody tr th {\n",
       "        vertical-align: top;\n",
       "    }\n",
       "\n",
       "    .dataframe thead th {\n",
       "        text-align: right;\n",
       "    }\n",
       "</style>\n",
       "<table border=\"1\" class=\"dataframe\">\n",
       "  <thead>\n",
       "    <tr style=\"text-align: right;\">\n",
       "      <th></th>\n",
       "      <th>table id</th>\n",
       "      <th>name</th>\n",
       "      <th>phone number</th>\n",
       "      <th>Location</th>\n",
       "      <th>Emp. Group</th>\n",
       "      <th>Function</th>\n",
       "      <th>Gender</th>\n",
       "      <th>Tenure</th>\n",
       "      <th>Tenure Grp.</th>\n",
       "      <th>Experience (YY.MM)</th>\n",
       "      <th>Marital Status</th>\n",
       "      <th>Age in YY.</th>\n",
       "      <th>Hiring Source</th>\n",
       "      <th>Promoted/Non Promoted</th>\n",
       "      <th>Job Role Match</th>\n",
       "      <th>Stay/Left</th>\n",
       "    </tr>\n",
       "  </thead>\n",
       "  <tbody>\n",
       "    <tr>\n",
       "      <th>0</th>\n",
       "      <td>1</td>\n",
       "      <td>sid</td>\n",
       "      <td>9876544345</td>\n",
       "      <td>Pune</td>\n",
       "      <td>B2</td>\n",
       "      <td>Operation</td>\n",
       "      <td>Male</td>\n",
       "      <td>0.00</td>\n",
       "      <td>&lt; =1</td>\n",
       "      <td>6.08</td>\n",
       "      <td>Single</td>\n",
       "      <td>27.12</td>\n",
       "      <td>Direct</td>\n",
       "      <td>Non Promoted</td>\n",
       "      <td>Yes</td>\n",
       "      <td>Left</td>\n",
       "    </tr>\n",
       "    <tr>\n",
       "      <th>1</th>\n",
       "      <td>2</td>\n",
       "      <td>sid</td>\n",
       "      <td>9876544345</td>\n",
       "      <td>Noida</td>\n",
       "      <td>B7</td>\n",
       "      <td>Support</td>\n",
       "      <td>Male</td>\n",
       "      <td>0.00</td>\n",
       "      <td>&lt; =1</td>\n",
       "      <td>13.00</td>\n",
       "      <td>Marr.</td>\n",
       "      <td>38.08</td>\n",
       "      <td>Direct</td>\n",
       "      <td>Promoted</td>\n",
       "      <td>No</td>\n",
       "      <td>Stay</td>\n",
       "    </tr>\n",
       "    <tr>\n",
       "      <th>2</th>\n",
       "      <td>3</td>\n",
       "      <td>sid</td>\n",
       "      <td>9876544345</td>\n",
       "      <td>Bangalore</td>\n",
       "      <td>B3</td>\n",
       "      <td>Operation</td>\n",
       "      <td>Male</td>\n",
       "      <td>0.01</td>\n",
       "      <td>&lt; =1</td>\n",
       "      <td>16.05</td>\n",
       "      <td>Marr.</td>\n",
       "      <td>36.04</td>\n",
       "      <td>Direct</td>\n",
       "      <td>Promoted</td>\n",
       "      <td>Yes</td>\n",
       "      <td>Stay</td>\n",
       "    </tr>\n",
       "    <tr>\n",
       "      <th>3</th>\n",
       "      <td>4</td>\n",
       "      <td>sid</td>\n",
       "      <td>9876544345</td>\n",
       "      <td>Noida</td>\n",
       "      <td>B2</td>\n",
       "      <td>Operation</td>\n",
       "      <td>Male</td>\n",
       "      <td>0.01</td>\n",
       "      <td>&lt; =1</td>\n",
       "      <td>6.06</td>\n",
       "      <td>Marr.</td>\n",
       "      <td>32.07</td>\n",
       "      <td>Direct</td>\n",
       "      <td>Promoted</td>\n",
       "      <td>Yes</td>\n",
       "      <td>Stay</td>\n",
       "    </tr>\n",
       "    <tr>\n",
       "      <th>4</th>\n",
       "      <td>5</td>\n",
       "      <td>sid</td>\n",
       "      <td>9876544345</td>\n",
       "      <td>Lucknow</td>\n",
       "      <td>B2</td>\n",
       "      <td>Operation</td>\n",
       "      <td>Male</td>\n",
       "      <td>0.00</td>\n",
       "      <td>&lt; =1</td>\n",
       "      <td>7.00</td>\n",
       "      <td>Marr.</td>\n",
       "      <td>32.05</td>\n",
       "      <td>Direct</td>\n",
       "      <td>Non Promoted</td>\n",
       "      <td>Yes</td>\n",
       "      <td>Stay</td>\n",
       "    </tr>\n",
       "  </tbody>\n",
       "</table>\n",
       "</div>"
      ],
      "text/plain": [
       "   table id name  phone number   Location Emp. Group   Function Gender   \\\n",
       "0         1  sid    9876544345       Pune         B2  Operation    Male   \n",
       "1         2  sid    9876544345      Noida         B7    Support    Male   \n",
       "2         3  sid    9876544345  Bangalore         B3  Operation    Male   \n",
       "3         4  sid    9876544345      Noida         B2  Operation    Male   \n",
       "4         5  sid    9876544345    Lucknow         B2  Operation    Male   \n",
       "\n",
       "   Tenure Tenure Grp.  Experience (YY.MM) Marital Status  Age in YY.  \\\n",
       "0    0.00        < =1                6.08         Single       27.12   \n",
       "1    0.00        < =1               13.00          Marr.       38.08   \n",
       "2    0.01        < =1               16.05          Marr.       36.04   \n",
       "3    0.01        < =1                6.06          Marr.       32.07   \n",
       "4    0.00        < =1                7.00          Marr.       32.05   \n",
       "\n",
       "  Hiring Source Promoted/Non Promoted Job Role Match Stay/Left  \n",
       "0        Direct          Non Promoted            Yes      Left  \n",
       "1        Direct              Promoted             No      Stay  \n",
       "2        Direct              Promoted            Yes      Stay  \n",
       "3        Direct              Promoted            Yes      Stay  \n",
       "4        Direct          Non Promoted            Yes      Stay  "
      ]
     },
     "execution_count": 43,
     "metadata": {},
     "output_type": "execute_result"
    }
   ],
   "source": [
    "df.head()"
   ]
  },
  {
   "cell_type": "code",
   "execution_count": 44,
   "id": "1196a75e",
   "metadata": {},
   "outputs": [
    {
     "data": {
      "text/plain": [
       "table id                 0\n",
       "name                     0\n",
       "phone number             0\n",
       "Location                 0\n",
       "Emp. Group               0\n",
       "Function                 0\n",
       "Gender                   0\n",
       "Tenure                   0\n",
       "Tenure Grp.              0\n",
       "Experience (YY.MM)       4\n",
       "Marital Status           0\n",
       "Age in YY.               0\n",
       "Hiring Source            0\n",
       "Promoted/Non Promoted    0\n",
       "Job Role Match           2\n",
       "Stay/Left                0\n",
       "dtype: int64"
      ]
     },
     "execution_count": 44,
     "metadata": {},
     "output_type": "execute_result"
    }
   ],
   "source": [
    "df.isna().sum()"
   ]
  },
  {
   "cell_type": "code",
   "execution_count": 54,
   "id": "068ac49b",
   "metadata": {},
   "outputs": [],
   "source": [
    "df.dropna(axis=0, inplace=True)"
   ]
  },
  {
   "cell_type": "code",
   "execution_count": 55,
   "id": "b7da28e8",
   "metadata": {},
   "outputs": [
    {
     "data": {
      "text/plain": [
       "table id                 0\n",
       "name                     0\n",
       "phone number             0\n",
       "Location                 0\n",
       "Emp. Group               0\n",
       "Function                 0\n",
       "Gender                   0\n",
       "Tenure                   0\n",
       "Tenure Grp.              0\n",
       "Experience (YY.MM)       0\n",
       "Marital Status           0\n",
       "Age in YY.               0\n",
       "Hiring Source            0\n",
       "Promoted/Non Promoted    0\n",
       "Job Role Match           0\n",
       "Stay/Left                0\n",
       "dtype: int64"
      ]
     },
     "execution_count": 55,
     "metadata": {},
     "output_type": "execute_result"
    }
   ],
   "source": [
    "df.isna().sum()"
   ]
  },
  {
   "cell_type": "code",
   "execution_count": 45,
   "id": "acfa05dc",
   "metadata": {},
   "outputs": [
    {
     "data": {
      "text/plain": [
       "array(['Yes', 'No', nan], dtype=object)"
      ]
     },
     "execution_count": 45,
     "metadata": {},
     "output_type": "execute_result"
    }
   ],
   "source": [
    "df['Job Role Match'].unique()"
   ]
  },
  {
   "cell_type": "code",
   "execution_count": 46,
   "id": "09cd1b70",
   "metadata": {},
   "outputs": [
    {
     "data": {
      "text/plain": [
       "Yes    482\n",
       "No     418\n",
       "Name: Job Role Match, dtype: int64"
      ]
     },
     "execution_count": 46,
     "metadata": {},
     "output_type": "execute_result"
    }
   ],
   "source": [
    "df['Job Role Match'].value_counts()"
   ]
  },
  {
   "cell_type": "code",
   "execution_count": 47,
   "id": "394aa1be",
   "metadata": {},
   "outputs": [
    {
     "data": {
      "text/html": [
       "<div>\n",
       "<style scoped>\n",
       "    .dataframe tbody tr th:only-of-type {\n",
       "        vertical-align: middle;\n",
       "    }\n",
       "\n",
       "    .dataframe tbody tr th {\n",
       "        vertical-align: top;\n",
       "    }\n",
       "\n",
       "    .dataframe thead th {\n",
       "        text-align: right;\n",
       "    }\n",
       "</style>\n",
       "<table border=\"1\" class=\"dataframe\">\n",
       "  <thead>\n",
       "    <tr style=\"text-align: right;\">\n",
       "      <th></th>\n",
       "      <th>table id</th>\n",
       "      <th>name</th>\n",
       "      <th>phone number</th>\n",
       "      <th>Location</th>\n",
       "      <th>Emp. Group</th>\n",
       "      <th>Function</th>\n",
       "      <th>Gender</th>\n",
       "      <th>Tenure</th>\n",
       "      <th>Tenure Grp.</th>\n",
       "      <th>Experience (YY.MM)</th>\n",
       "      <th>Marital Status</th>\n",
       "      <th>Age in YY.</th>\n",
       "      <th>Hiring Source</th>\n",
       "      <th>Promoted/Non Promoted</th>\n",
       "      <th>Job Role Match</th>\n",
       "      <th>Stay/Left</th>\n",
       "    </tr>\n",
       "  </thead>\n",
       "  <tbody>\n",
       "    <tr>\n",
       "      <th>0</th>\n",
       "      <td>1</td>\n",
       "      <td>sid</td>\n",
       "      <td>9876544345</td>\n",
       "      <td>Pune</td>\n",
       "      <td>B2</td>\n",
       "      <td>Operation</td>\n",
       "      <td>Male</td>\n",
       "      <td>0.00</td>\n",
       "      <td>&lt; =1</td>\n",
       "      <td>6.08</td>\n",
       "      <td>Single</td>\n",
       "      <td>27.12</td>\n",
       "      <td>Direct</td>\n",
       "      <td>Non Promoted</td>\n",
       "      <td>Yes</td>\n",
       "      <td>Left</td>\n",
       "    </tr>\n",
       "    <tr>\n",
       "      <th>1</th>\n",
       "      <td>2</td>\n",
       "      <td>sid</td>\n",
       "      <td>9876544345</td>\n",
       "      <td>Noida</td>\n",
       "      <td>B7</td>\n",
       "      <td>Support</td>\n",
       "      <td>Male</td>\n",
       "      <td>0.00</td>\n",
       "      <td>&lt; =1</td>\n",
       "      <td>13.00</td>\n",
       "      <td>Marr.</td>\n",
       "      <td>38.08</td>\n",
       "      <td>Direct</td>\n",
       "      <td>Promoted</td>\n",
       "      <td>No</td>\n",
       "      <td>Stay</td>\n",
       "    </tr>\n",
       "    <tr>\n",
       "      <th>2</th>\n",
       "      <td>3</td>\n",
       "      <td>sid</td>\n",
       "      <td>9876544345</td>\n",
       "      <td>Bangalore</td>\n",
       "      <td>B3</td>\n",
       "      <td>Operation</td>\n",
       "      <td>Male</td>\n",
       "      <td>0.01</td>\n",
       "      <td>&lt; =1</td>\n",
       "      <td>16.05</td>\n",
       "      <td>Marr.</td>\n",
       "      <td>36.04</td>\n",
       "      <td>Direct</td>\n",
       "      <td>Promoted</td>\n",
       "      <td>Yes</td>\n",
       "      <td>Stay</td>\n",
       "    </tr>\n",
       "    <tr>\n",
       "      <th>3</th>\n",
       "      <td>4</td>\n",
       "      <td>sid</td>\n",
       "      <td>9876544345</td>\n",
       "      <td>Noida</td>\n",
       "      <td>B2</td>\n",
       "      <td>Operation</td>\n",
       "      <td>Male</td>\n",
       "      <td>0.01</td>\n",
       "      <td>&lt; =1</td>\n",
       "      <td>6.06</td>\n",
       "      <td>Marr.</td>\n",
       "      <td>32.07</td>\n",
       "      <td>Direct</td>\n",
       "      <td>Promoted</td>\n",
       "      <td>Yes</td>\n",
       "      <td>Stay</td>\n",
       "    </tr>\n",
       "    <tr>\n",
       "      <th>4</th>\n",
       "      <td>5</td>\n",
       "      <td>sid</td>\n",
       "      <td>9876544345</td>\n",
       "      <td>Lucknow</td>\n",
       "      <td>B2</td>\n",
       "      <td>Operation</td>\n",
       "      <td>Male</td>\n",
       "      <td>0.00</td>\n",
       "      <td>&lt; =1</td>\n",
       "      <td>7.00</td>\n",
       "      <td>Marr.</td>\n",
       "      <td>32.05</td>\n",
       "      <td>Direct</td>\n",
       "      <td>Non Promoted</td>\n",
       "      <td>Yes</td>\n",
       "      <td>Stay</td>\n",
       "    </tr>\n",
       "    <tr>\n",
       "      <th>...</th>\n",
       "      <td>...</td>\n",
       "      <td>...</td>\n",
       "      <td>...</td>\n",
       "      <td>...</td>\n",
       "      <td>...</td>\n",
       "      <td>...</td>\n",
       "      <td>...</td>\n",
       "      <td>...</td>\n",
       "      <td>...</td>\n",
       "      <td>...</td>\n",
       "      <td>...</td>\n",
       "      <td>...</td>\n",
       "      <td>...</td>\n",
       "      <td>...</td>\n",
       "      <td>...</td>\n",
       "      <td>...</td>\n",
       "    </tr>\n",
       "    <tr>\n",
       "      <th>896</th>\n",
       "      <td>897</td>\n",
       "      <td>Rahul</td>\n",
       "      <td>9876544345</td>\n",
       "      <td>Vijayawada</td>\n",
       "      <td>B1</td>\n",
       "      <td>Operation</td>\n",
       "      <td>Male</td>\n",
       "      <td>0.03</td>\n",
       "      <td>&lt; =1</td>\n",
       "      <td>0.03</td>\n",
       "      <td>Single</td>\n",
       "      <td>24.06</td>\n",
       "      <td>Direct</td>\n",
       "      <td>Non Promoted</td>\n",
       "      <td>Yes</td>\n",
       "      <td>Stay</td>\n",
       "    </tr>\n",
       "    <tr>\n",
       "      <th>897</th>\n",
       "      <td>898</td>\n",
       "      <td>Rahul</td>\n",
       "      <td>9876544345</td>\n",
       "      <td>Vijayawada</td>\n",
       "      <td>B1</td>\n",
       "      <td>Operation</td>\n",
       "      <td>Female</td>\n",
       "      <td>0.03</td>\n",
       "      <td>&lt; =1</td>\n",
       "      <td>0.03</td>\n",
       "      <td>Single</td>\n",
       "      <td>21.09</td>\n",
       "      <td>Direct</td>\n",
       "      <td>Non Promoted</td>\n",
       "      <td>Yes</td>\n",
       "      <td>Stay</td>\n",
       "    </tr>\n",
       "    <tr>\n",
       "      <th>898</th>\n",
       "      <td>899</td>\n",
       "      <td>Rahul</td>\n",
       "      <td>9876544345</td>\n",
       "      <td>Vijayawada</td>\n",
       "      <td>B1</td>\n",
       "      <td>Operation</td>\n",
       "      <td>Female</td>\n",
       "      <td>0.03</td>\n",
       "      <td>&lt; =1</td>\n",
       "      <td>0.03</td>\n",
       "      <td>Single</td>\n",
       "      <td>22.02</td>\n",
       "      <td>Direct</td>\n",
       "      <td>Non Promoted</td>\n",
       "      <td>Yes</td>\n",
       "      <td>Left</td>\n",
       "    </tr>\n",
       "    <tr>\n",
       "      <th>900</th>\n",
       "      <td>901</td>\n",
       "      <td>Rahul</td>\n",
       "      <td>9876544345</td>\n",
       "      <td>Vijayawada</td>\n",
       "      <td>B1</td>\n",
       "      <td>Operation</td>\n",
       "      <td>Female</td>\n",
       "      <td>0.03</td>\n",
       "      <td>&lt; =1</td>\n",
       "      <td>0.03</td>\n",
       "      <td>Single</td>\n",
       "      <td>22.02</td>\n",
       "      <td>Direct</td>\n",
       "      <td>Non Promoted</td>\n",
       "      <td>Yes</td>\n",
       "      <td>Stay</td>\n",
       "    </tr>\n",
       "    <tr>\n",
       "      <th>901</th>\n",
       "      <td>902</td>\n",
       "      <td>Rahul</td>\n",
       "      <td>9876544345</td>\n",
       "      <td>Madurai</td>\n",
       "      <td>B2</td>\n",
       "      <td>Operation</td>\n",
       "      <td>Male</td>\n",
       "      <td>0.02</td>\n",
       "      <td>&lt; =1</td>\n",
       "      <td>10.02</td>\n",
       "      <td>Marr.</td>\n",
       "      <td>32.08</td>\n",
       "      <td>Direct</td>\n",
       "      <td>Non Promoted</td>\n",
       "      <td>No</td>\n",
       "      <td>Stay</td>\n",
       "    </tr>\n",
       "  </tbody>\n",
       "</table>\n",
       "<p>896 rows × 16 columns</p>\n",
       "</div>"
      ],
      "text/plain": [
       "     table id   name  phone number    Location Emp. Group   Function Gender   \\\n",
       "0           1    sid    9876544345        Pune         B2  Operation    Male   \n",
       "1           2    sid    9876544345       Noida         B7    Support    Male   \n",
       "2           3    sid    9876544345   Bangalore         B3  Operation    Male   \n",
       "3           4    sid    9876544345       Noida         B2  Operation    Male   \n",
       "4           5    sid    9876544345     Lucknow         B2  Operation    Male   \n",
       "..        ...    ...           ...         ...        ...        ...     ...   \n",
       "896       897  Rahul    9876544345  Vijayawada         B1  Operation    Male   \n",
       "897       898  Rahul    9876544345  Vijayawada         B1  Operation  Female   \n",
       "898       899  Rahul    9876544345  Vijayawada         B1  Operation  Female   \n",
       "900       901  Rahul    9876544345  Vijayawada         B1  Operation  Female   \n",
       "901       902  Rahul    9876544345     Madurai         B2  Operation    Male   \n",
       "\n",
       "     Tenure Tenure Grp.  Experience (YY.MM) Marital Status  Age in YY.  \\\n",
       "0      0.00        < =1                6.08         Single       27.12   \n",
       "1      0.00        < =1               13.00          Marr.       38.08   \n",
       "2      0.01        < =1               16.05          Marr.       36.04   \n",
       "3      0.01        < =1                6.06          Marr.       32.07   \n",
       "4      0.00        < =1                7.00          Marr.       32.05   \n",
       "..      ...         ...                 ...            ...         ...   \n",
       "896    0.03        < =1                0.03         Single       24.06   \n",
       "897    0.03        < =1                0.03         Single       21.09   \n",
       "898    0.03        < =1                0.03         Single       22.02   \n",
       "900    0.03        < =1                0.03         Single       22.02   \n",
       "901    0.02        < =1               10.02          Marr.       32.08   \n",
       "\n",
       "    Hiring Source Promoted/Non Promoted Job Role Match Stay/Left  \n",
       "0          Direct          Non Promoted            Yes      Left  \n",
       "1          Direct              Promoted             No      Stay  \n",
       "2          Direct              Promoted            Yes      Stay  \n",
       "3          Direct              Promoted            Yes      Stay  \n",
       "4          Direct          Non Promoted            Yes      Stay  \n",
       "..            ...                   ...            ...       ...  \n",
       "896        Direct          Non Promoted            Yes      Stay  \n",
       "897        Direct          Non Promoted            Yes      Stay  \n",
       "898        Direct          Non Promoted            Yes      Left  \n",
       "900        Direct          Non Promoted            Yes      Stay  \n",
       "901        Direct          Non Promoted             No      Stay  \n",
       "\n",
       "[896 rows x 16 columns]"
      ]
     },
     "execution_count": 47,
     "metadata": {},
     "output_type": "execute_result"
    }
   ],
   "source": [
    "df.dropna()"
   ]
  },
  {
   "cell_type": "code",
   "execution_count": 48,
   "id": "09d9893f",
   "metadata": {},
   "outputs": [
    {
     "data": {
      "text/plain": [
       "table id                 0\n",
       "name                     0\n",
       "phone number             0\n",
       "Location                 0\n",
       "Emp. Group               0\n",
       "Function                 0\n",
       "Gender                   0\n",
       "Tenure                   0\n",
       "Tenure Grp.              0\n",
       "Experience (YY.MM)       4\n",
       "Marital Status           0\n",
       "Age in YY.               0\n",
       "Hiring Source            0\n",
       "Promoted/Non Promoted    0\n",
       "Job Role Match           2\n",
       "Stay/Left                0\n",
       "dtype: int64"
      ]
     },
     "execution_count": 48,
     "metadata": {},
     "output_type": "execute_result"
    }
   ],
   "source": [
    "df.isnull().sum()"
   ]
  },
  {
   "cell_type": "code",
   "execution_count": 49,
   "id": "554589e0",
   "metadata": {},
   "outputs": [],
   "source": [
    "def mapping(x):\n",
    "    x = None\n",
    "    for i in df['Job Role Match']:\n",
    "        if i != \"Yes\" and i != \"No\":\n",
    "            x = 'Yes'\n",
    "    return x"
   ]
  },
  {
   "cell_type": "code",
   "execution_count": 50,
   "id": "99e42797",
   "metadata": {},
   "outputs": [
    {
     "name": "stdout",
     "output_type": "stream",
     "text": [
      "nan\n",
      "<class 'float'>\n",
      "<class 'float'>\n",
      "nan\n",
      "<class 'float'>\n",
      "<class 'float'>\n"
     ]
    }
   ],
   "source": [
    "for i in df['Job Role Match']:\n",
    "    if i != \"Yes\" and i != \"No\":\n",
    "        print(i)\n",
    "        print(type(i))\n",
    "        print(type(np.nan))\n",
    "    "
   ]
  },
  {
   "cell_type": "code",
   "execution_count": 51,
   "id": "72682f86",
   "metadata": {},
   "outputs": [
    {
     "data": {
      "text/plain": [
       "Yes    482\n",
       "No     418\n",
       "Name: Job Role Match, dtype: int64"
      ]
     },
     "execution_count": 51,
     "metadata": {},
     "output_type": "execute_result"
    }
   ],
   "source": [
    "df['Job Role Match'].value_counts()"
   ]
  },
  {
   "cell_type": "code",
   "execution_count": 52,
   "id": "cdc40f61",
   "metadata": {},
   "outputs": [
    {
     "data": {
      "text/plain": [
       "0      Yes\n",
       "1       No\n",
       "2      Yes\n",
       "3      Yes\n",
       "4      Yes\n",
       "      ... \n",
       "897    Yes\n",
       "898    Yes\n",
       "899    Yes\n",
       "900    Yes\n",
       "901     No\n",
       "Name: Job Role Match, Length: 902, dtype: object"
      ]
     },
     "execution_count": 52,
     "metadata": {},
     "output_type": "execute_result"
    }
   ],
   "source": [
    "df['Job Role Match'].replace(np.nan,'Yes')"
   ]
  },
  {
   "cell_type": "code",
   "execution_count": 53,
   "id": "cb082a9c",
   "metadata": {},
   "outputs": [
    {
     "data": {
      "text/plain": [
       "array(['Yes', 'No', nan], dtype=object)"
      ]
     },
     "execution_count": 53,
     "metadata": {},
     "output_type": "execute_result"
    }
   ],
   "source": [
    "df['Job Role Match'].unique()"
   ]
  },
  {
   "cell_type": "code",
   "execution_count": 59,
   "id": "47a9d01d",
   "metadata": {},
   "outputs": [
    {
     "name": "stdout",
     "output_type": "stream",
     "text": [
      "name : ['sid' 'shruti' 'Dwane' 'Arnab' 'Papu' 'Shiv' 'Rahul']\n",
      "Arnab     309\n",
      "Papu      201\n",
      "Dwane     153\n",
      "Shiv      127\n",
      "shruti     74\n",
      "sid        19\n",
      "Rahul      13\n",
      "Name: name, dtype: int64\n",
      ">>>>>>>>>.-------.<<<<<<<< \n",
      "\n",
      "Location : ['Pune' 'Noida' 'Bangalore' 'Lucknow' 'Chennai' 'Hyderabad' 'Nagpur'\n",
      " 'Madurai' 'Mumbai' 'Gurgaon' 'Kolkata' 'Vijayawada']\n",
      "Chennai       255\n",
      "Noida         236\n",
      "Bangalore     210\n",
      "Hyderabad      62\n",
      "Pune           56\n",
      "Madurai        29\n",
      "Lucknow        20\n",
      "Nagpur         14\n",
      "Vijayawada      6\n",
      "Mumbai          4\n",
      "Gurgaon         3\n",
      "Kolkata         1\n",
      "Name: Location, dtype: int64\n",
      ">>>>>>>>>.-------.<<<<<<<< \n",
      "\n",
      "Emp. Group : ['B2' 'B7' 'B3' 'B1' 'B5' 'B0' 'B4' 'B6' 'C3' 'D2']\n",
      "B1    537\n",
      "B2    276\n",
      "B3     59\n",
      "B0      8\n",
      "B4      7\n",
      "B5      4\n",
      "B7      2\n",
      "B6      1\n",
      "C3      1\n",
      "D2      1\n",
      "Name: Emp. Group, dtype: int64\n",
      ">>>>>>>>>.-------.<<<<<<<< \n",
      "\n",
      "Function : ['Operation' 'Support' 'Sales']\n",
      "Operation    832\n",
      "Support       52\n",
      "Sales         12\n",
      "Name: Function, dtype: int64\n",
      ">>>>>>>>>.-------.<<<<<<<< \n",
      "\n",
      "Gender  : ['Male' 'Female' 'other']\n",
      "Male      656\n",
      "Female    234\n",
      "other       6\n",
      "Name: Gender , dtype: int64\n",
      ">>>>>>>>>.-------.<<<<<<<< \n",
      "\n",
      "Tenure Grp. : ['< =1' '> 1 & < =3']\n",
      "> 1 & < =3    626\n",
      "< =1          270\n",
      "Name: Tenure Grp., dtype: int64\n",
      ">>>>>>>>>.-------.<<<<<<<< \n",
      "\n",
      "Marital Status : ['Single' 'Marr.' 'Div.' 'NTBD' 'Sep.']\n",
      "Single    534\n",
      "Marr.     356\n",
      "Div.        2\n",
      "NTBD        2\n",
      "Sep.        2\n",
      "Name: Marital Status, dtype: int64\n",
      ">>>>>>>>>.-------.<<<<<<<< \n",
      "\n",
      "Hiring Source : ['Direct' 'Agency' 'Employee Referral']\n",
      "Direct               709\n",
      "Agency               116\n",
      "Employee Referral     71\n",
      "Name: Hiring Source, dtype: int64\n",
      ">>>>>>>>>.-------.<<<<<<<< \n",
      "\n",
      "Promoted/Non Promoted : ['Non Promoted' 'Promoted']\n",
      "Promoted        457\n",
      "Non Promoted    439\n",
      "Name: Promoted/Non Promoted, dtype: int64\n",
      ">>>>>>>>>.-------.<<<<<<<< \n",
      "\n",
      "Job Role Match : ['Yes' 'No']\n",
      "Yes    481\n",
      "No     415\n",
      "Name: Job Role Match, dtype: int64\n",
      ">>>>>>>>>.-------.<<<<<<<< \n",
      "\n",
      "Stay/Left : ['Left' 'Stay']\n",
      "Stay    592\n",
      "Left    304\n",
      "Name: Stay/Left, dtype: int64\n",
      ">>>>>>>>>.-------.<<<<<<<< \n",
      "\n"
     ]
    }
   ],
   "source": [
    "for col in df.columns:\n",
    "    if df[col].dtype == object:\n",
    "        print(col,\":\",df[col].unique())\n",
    "        print(df[col].value_counts())\n",
    "        print(\">>>>>>>>>.-------.<<<<<<<< \\n\")"
   ]
  },
  {
   "cell_type": "code",
   "execution_count": 65,
   "id": "57fdda63",
   "metadata": {},
   "outputs": [
    {
     "data": {
      "text/html": [
       "<div>\n",
       "<style scoped>\n",
       "    .dataframe tbody tr th:only-of-type {\n",
       "        vertical-align: middle;\n",
       "    }\n",
       "\n",
       "    .dataframe tbody tr th {\n",
       "        vertical-align: top;\n",
       "    }\n",
       "\n",
       "    .dataframe thead th {\n",
       "        text-align: right;\n",
       "    }\n",
       "</style>\n",
       "<table border=\"1\" class=\"dataframe\">\n",
       "  <thead>\n",
       "    <tr style=\"text-align: right;\">\n",
       "      <th></th>\n",
       "      <th>table id</th>\n",
       "      <th>name</th>\n",
       "      <th>phone number</th>\n",
       "      <th>Location</th>\n",
       "      <th>Emp. Group</th>\n",
       "      <th>Function</th>\n",
       "      <th>Gender</th>\n",
       "      <th>Tenure</th>\n",
       "      <th>Tenure Grp.</th>\n",
       "      <th>Experience (YY.MM)</th>\n",
       "      <th>Marital Status</th>\n",
       "      <th>Age in YY.</th>\n",
       "      <th>Hiring Source</th>\n",
       "      <th>Promoted/Non Promoted</th>\n",
       "      <th>Job Role Match</th>\n",
       "      <th>Stay/Left</th>\n",
       "      <th>New Location</th>\n",
       "    </tr>\n",
       "  </thead>\n",
       "  <tbody>\n",
       "    <tr>\n",
       "      <th>0</th>\n",
       "      <td>1</td>\n",
       "      <td>sid</td>\n",
       "      <td>9876544345</td>\n",
       "      <td>Pune</td>\n",
       "      <td>B2</td>\n",
       "      <td>Operation</td>\n",
       "      <td>Male</td>\n",
       "      <td>0.00</td>\n",
       "      <td>&lt; =1</td>\n",
       "      <td>6.08</td>\n",
       "      <td>Single</td>\n",
       "      <td>27.12</td>\n",
       "      <td>Direct</td>\n",
       "      <td>Non Promoted</td>\n",
       "      <td>Yes</td>\n",
       "      <td>Left</td>\n",
       "      <td>3</td>\n",
       "    </tr>\n",
       "    <tr>\n",
       "      <th>1</th>\n",
       "      <td>2</td>\n",
       "      <td>sid</td>\n",
       "      <td>9876544345</td>\n",
       "      <td>Noida</td>\n",
       "      <td>B7</td>\n",
       "      <td>Support</td>\n",
       "      <td>Male</td>\n",
       "      <td>0.00</td>\n",
       "      <td>&lt; =1</td>\n",
       "      <td>13.00</td>\n",
       "      <td>Marr.</td>\n",
       "      <td>38.08</td>\n",
       "      <td>Direct</td>\n",
       "      <td>Promoted</td>\n",
       "      <td>No</td>\n",
       "      <td>Stay</td>\n",
       "      <td>6</td>\n",
       "    </tr>\n",
       "    <tr>\n",
       "      <th>2</th>\n",
       "      <td>3</td>\n",
       "      <td>sid</td>\n",
       "      <td>9876544345</td>\n",
       "      <td>Bangalore</td>\n",
       "      <td>B3</td>\n",
       "      <td>Operation</td>\n",
       "      <td>Male</td>\n",
       "      <td>0.01</td>\n",
       "      <td>&lt; =1</td>\n",
       "      <td>16.05</td>\n",
       "      <td>Marr.</td>\n",
       "      <td>36.04</td>\n",
       "      <td>Direct</td>\n",
       "      <td>Promoted</td>\n",
       "      <td>Yes</td>\n",
       "      <td>Stay</td>\n",
       "      <td>5</td>\n",
       "    </tr>\n",
       "    <tr>\n",
       "      <th>3</th>\n",
       "      <td>4</td>\n",
       "      <td>sid</td>\n",
       "      <td>9876544345</td>\n",
       "      <td>Noida</td>\n",
       "      <td>B2</td>\n",
       "      <td>Operation</td>\n",
       "      <td>Male</td>\n",
       "      <td>0.01</td>\n",
       "      <td>&lt; =1</td>\n",
       "      <td>6.06</td>\n",
       "      <td>Marr.</td>\n",
       "      <td>32.07</td>\n",
       "      <td>Direct</td>\n",
       "      <td>Promoted</td>\n",
       "      <td>Yes</td>\n",
       "      <td>Stay</td>\n",
       "      <td>6</td>\n",
       "    </tr>\n",
       "    <tr>\n",
       "      <th>4</th>\n",
       "      <td>5</td>\n",
       "      <td>sid</td>\n",
       "      <td>9876544345</td>\n",
       "      <td>Lucknow</td>\n",
       "      <td>B2</td>\n",
       "      <td>Operation</td>\n",
       "      <td>Male</td>\n",
       "      <td>0.00</td>\n",
       "      <td>&lt; =1</td>\n",
       "      <td>7.00</td>\n",
       "      <td>Marr.</td>\n",
       "      <td>32.05</td>\n",
       "      <td>Direct</td>\n",
       "      <td>Non Promoted</td>\n",
       "      <td>Yes</td>\n",
       "      <td>Stay</td>\n",
       "      <td>1</td>\n",
       "    </tr>\n",
       "  </tbody>\n",
       "</table>\n",
       "</div>"
      ],
      "text/plain": [
       "   table id name  phone number   Location Emp. Group   Function Gender   \\\n",
       "0         1  sid    9876544345       Pune         B2  Operation    Male   \n",
       "1         2  sid    9876544345      Noida         B7    Support    Male   \n",
       "2         3  sid    9876544345  Bangalore         B3  Operation    Male   \n",
       "3         4  sid    9876544345      Noida         B2  Operation    Male   \n",
       "4         5  sid    9876544345    Lucknow         B2  Operation    Male   \n",
       "\n",
       "   Tenure Tenure Grp.  Experience (YY.MM) Marital Status  Age in YY.  \\\n",
       "0    0.00        < =1                6.08         Single       27.12   \n",
       "1    0.00        < =1               13.00          Marr.       38.08   \n",
       "2    0.01        < =1               16.05          Marr.       36.04   \n",
       "3    0.01        < =1                6.06          Marr.       32.07   \n",
       "4    0.00        < =1                7.00          Marr.       32.05   \n",
       "\n",
       "  Hiring Source Promoted/Non Promoted Job Role Match Stay/Left  New Location  \n",
       "0        Direct          Non Promoted            Yes      Left             3  \n",
       "1        Direct              Promoted             No      Stay             6  \n",
       "2        Direct              Promoted            Yes      Stay             5  \n",
       "3        Direct              Promoted            Yes      Stay             6  \n",
       "4        Direct          Non Promoted            Yes      Stay             1  "
      ]
     },
     "execution_count": 65,
     "metadata": {},
     "output_type": "execute_result"
    }
   ],
   "source": [
    "location_dict_new = {\n",
    "    'Chennai':       7,\n",
    "    'Noida':         6,\n",
    "    'Bangalore':     5,\n",
    "    'Hyderabad':     4,\n",
    "    'Pune':          3,\n",
    "    'Madurai':       2,\n",
    "    'Lucknow':       1,\n",
    "    'other place':   0,\n",
    "}\n",
    "\n",
    "def location(x):\n",
    "    if str(x) in location_dict_new.keys():\n",
    "        return location_dict_new[str(x)]\n",
    "    else:\n",
    "        return location_dict_new['other place']\n",
    "    \n",
    "data_1 = df['Location'].apply(location)\n",
    "df['New Location'] = data_1\n",
    "df.head()"
   ]
  },
  {
   "cell_type": "code",
   "execution_count": 66,
   "id": "6c3f0441",
   "metadata": {},
   "outputs": [
    {
     "data": {
      "text/plain": [
       "7    255\n",
       "6    236\n",
       "5    210\n",
       "4     62\n",
       "3     56\n",
       "2     29\n",
       "0     28\n",
       "1     20\n",
       "Name: New Location, dtype: int64"
      ]
     },
     "execution_count": 66,
     "metadata": {},
     "output_type": "execute_result"
    }
   ],
   "source": [
    "df['New Location'].value_counts()"
   ]
  },
  {
   "cell_type": "code",
   "execution_count": 67,
   "id": "c1ac1ec5",
   "metadata": {},
   "outputs": [
    {
     "data": {
      "text/html": [
       "<div>\n",
       "<style scoped>\n",
       "    .dataframe tbody tr th:only-of-type {\n",
       "        vertical-align: middle;\n",
       "    }\n",
       "\n",
       "    .dataframe tbody tr th {\n",
       "        vertical-align: top;\n",
       "    }\n",
       "\n",
       "    .dataframe thead th {\n",
       "        text-align: right;\n",
       "    }\n",
       "</style>\n",
       "<table border=\"1\" class=\"dataframe\">\n",
       "  <thead>\n",
       "    <tr style=\"text-align: right;\">\n",
       "      <th></th>\n",
       "      <th>Operation</th>\n",
       "      <th>Sales</th>\n",
       "      <th>Support</th>\n",
       "    </tr>\n",
       "  </thead>\n",
       "  <tbody>\n",
       "    <tr>\n",
       "      <th>0</th>\n",
       "      <td>1</td>\n",
       "      <td>0</td>\n",
       "      <td>0</td>\n",
       "    </tr>\n",
       "    <tr>\n",
       "      <th>1</th>\n",
       "      <td>0</td>\n",
       "      <td>0</td>\n",
       "      <td>1</td>\n",
       "    </tr>\n",
       "    <tr>\n",
       "      <th>2</th>\n",
       "      <td>1</td>\n",
       "      <td>0</td>\n",
       "      <td>0</td>\n",
       "    </tr>\n",
       "    <tr>\n",
       "      <th>3</th>\n",
       "      <td>1</td>\n",
       "      <td>0</td>\n",
       "      <td>0</td>\n",
       "    </tr>\n",
       "    <tr>\n",
       "      <th>4</th>\n",
       "      <td>1</td>\n",
       "      <td>0</td>\n",
       "      <td>0</td>\n",
       "    </tr>\n",
       "    <tr>\n",
       "      <th>...</th>\n",
       "      <td>...</td>\n",
       "      <td>...</td>\n",
       "      <td>...</td>\n",
       "    </tr>\n",
       "    <tr>\n",
       "      <th>896</th>\n",
       "      <td>1</td>\n",
       "      <td>0</td>\n",
       "      <td>0</td>\n",
       "    </tr>\n",
       "    <tr>\n",
       "      <th>897</th>\n",
       "      <td>1</td>\n",
       "      <td>0</td>\n",
       "      <td>0</td>\n",
       "    </tr>\n",
       "    <tr>\n",
       "      <th>898</th>\n",
       "      <td>1</td>\n",
       "      <td>0</td>\n",
       "      <td>0</td>\n",
       "    </tr>\n",
       "    <tr>\n",
       "      <th>900</th>\n",
       "      <td>1</td>\n",
       "      <td>0</td>\n",
       "      <td>0</td>\n",
       "    </tr>\n",
       "    <tr>\n",
       "      <th>901</th>\n",
       "      <td>1</td>\n",
       "      <td>0</td>\n",
       "      <td>0</td>\n",
       "    </tr>\n",
       "  </tbody>\n",
       "</table>\n",
       "<p>896 rows × 3 columns</p>\n",
       "</div>"
      ],
      "text/plain": [
       "     Operation  Sales  Support\n",
       "0            1      0        0\n",
       "1            0      0        1\n",
       "2            1      0        0\n",
       "3            1      0        0\n",
       "4            1      0        0\n",
       "..         ...    ...      ...\n",
       "896          1      0        0\n",
       "897          1      0        0\n",
       "898          1      0        0\n",
       "900          1      0        0\n",
       "901          1      0        0\n",
       "\n",
       "[896 rows x 3 columns]"
      ]
     },
     "execution_count": 67,
     "metadata": {},
     "output_type": "execute_result"
    }
   ],
   "source": [
    "pd.get_dummies(df['Function'])"
   ]
  },
  {
   "cell_type": "code",
   "execution_count": 68,
   "id": "fa6c1b22",
   "metadata": {},
   "outputs": [
    {
     "data": {
      "text/html": [
       "<div>\n",
       "<style scoped>\n",
       "    .dataframe tbody tr th:only-of-type {\n",
       "        vertical-align: middle;\n",
       "    }\n",
       "\n",
       "    .dataframe tbody tr th {\n",
       "        vertical-align: top;\n",
       "    }\n",
       "\n",
       "    .dataframe thead th {\n",
       "        text-align: right;\n",
       "    }\n",
       "</style>\n",
       "<table border=\"1\" class=\"dataframe\">\n",
       "  <thead>\n",
       "    <tr style=\"text-align: right;\">\n",
       "      <th></th>\n",
       "      <th>Agency</th>\n",
       "      <th>Direct</th>\n",
       "      <th>Employee Referral</th>\n",
       "    </tr>\n",
       "  </thead>\n",
       "  <tbody>\n",
       "    <tr>\n",
       "      <th>0</th>\n",
       "      <td>0</td>\n",
       "      <td>1</td>\n",
       "      <td>0</td>\n",
       "    </tr>\n",
       "    <tr>\n",
       "      <th>1</th>\n",
       "      <td>0</td>\n",
       "      <td>1</td>\n",
       "      <td>0</td>\n",
       "    </tr>\n",
       "    <tr>\n",
       "      <th>2</th>\n",
       "      <td>0</td>\n",
       "      <td>1</td>\n",
       "      <td>0</td>\n",
       "    </tr>\n",
       "    <tr>\n",
       "      <th>3</th>\n",
       "      <td>0</td>\n",
       "      <td>1</td>\n",
       "      <td>0</td>\n",
       "    </tr>\n",
       "    <tr>\n",
       "      <th>4</th>\n",
       "      <td>0</td>\n",
       "      <td>1</td>\n",
       "      <td>0</td>\n",
       "    </tr>\n",
       "    <tr>\n",
       "      <th>...</th>\n",
       "      <td>...</td>\n",
       "      <td>...</td>\n",
       "      <td>...</td>\n",
       "    </tr>\n",
       "    <tr>\n",
       "      <th>896</th>\n",
       "      <td>0</td>\n",
       "      <td>1</td>\n",
       "      <td>0</td>\n",
       "    </tr>\n",
       "    <tr>\n",
       "      <th>897</th>\n",
       "      <td>0</td>\n",
       "      <td>1</td>\n",
       "      <td>0</td>\n",
       "    </tr>\n",
       "    <tr>\n",
       "      <th>898</th>\n",
       "      <td>0</td>\n",
       "      <td>1</td>\n",
       "      <td>0</td>\n",
       "    </tr>\n",
       "    <tr>\n",
       "      <th>900</th>\n",
       "      <td>0</td>\n",
       "      <td>1</td>\n",
       "      <td>0</td>\n",
       "    </tr>\n",
       "    <tr>\n",
       "      <th>901</th>\n",
       "      <td>0</td>\n",
       "      <td>1</td>\n",
       "      <td>0</td>\n",
       "    </tr>\n",
       "  </tbody>\n",
       "</table>\n",
       "<p>896 rows × 3 columns</p>\n",
       "</div>"
      ],
      "text/plain": [
       "     Agency  Direct  Employee Referral\n",
       "0         0       1                  0\n",
       "1         0       1                  0\n",
       "2         0       1                  0\n",
       "3         0       1                  0\n",
       "4         0       1                  0\n",
       "..      ...     ...                ...\n",
       "896       0       1                  0\n",
       "897       0       1                  0\n",
       "898       0       1                  0\n",
       "900       0       1                  0\n",
       "901       0       1                  0\n",
       "\n",
       "[896 rows x 3 columns]"
      ]
     },
     "execution_count": 68,
     "metadata": {},
     "output_type": "execute_result"
    }
   ],
   "source": [
    "pd.get_dummies(df[\"Hiring Source\"])"
   ]
  },
  {
   "cell_type": "code",
   "execution_count": 75,
   "id": "787bc7ab",
   "metadata": {},
   "outputs": [],
   "source": [
    "Maritial_dict = df['Marital Status'].value_counts()"
   ]
  },
  {
   "cell_type": "code",
   "execution_count": 76,
   "id": "2658df59",
   "metadata": {},
   "outputs": [],
   "source": [
    "def Mar(x):\n",
    "    if str(x) in Maritial_dict  and Maritial_dict[str(x)] > 100:\n",
    "        return x \n",
    "    else:\n",
    "        return \"other status\""
   ]
  },
  {
   "cell_type": "code",
   "execution_count": 69,
   "id": "d54776ea",
   "metadata": {},
   "outputs": [
    {
     "data": {
      "text/plain": [
       "Index(['table id', 'name', 'phone number', 'Location', 'Emp. Group',\n",
       "       'Function', 'Gender ', 'Tenure', 'Tenure Grp.', 'Experience (YY.MM)',\n",
       "       'Marital Status', 'Age in YY.', 'Hiring Source',\n",
       "       'Promoted/Non Promoted', 'Job Role Match', 'Stay/Left', 'New Location'],\n",
       "      dtype='object')"
      ]
     },
     "execution_count": 69,
     "metadata": {},
     "output_type": "execute_result"
    }
   ],
   "source": [
    "df.columns"
   ]
  },
  {
   "cell_type": "code",
   "execution_count": 73,
   "id": "15127001",
   "metadata": {},
   "outputs": [
    {
     "data": {
      "text/plain": [
       "Index(['Single', 'Marr.', 'Div.', 'NTBD', 'Sep.'], dtype='object')"
      ]
     },
     "execution_count": 73,
     "metadata": {},
     "output_type": "execute_result"
    }
   ],
   "source": [
    "df['Marital Status'].value_counts().keys()"
   ]
  },
  {
   "cell_type": "code",
   "execution_count": 74,
   "id": "676e214f",
   "metadata": {},
   "outputs": [
    {
     "data": {
      "text/plain": [
       "Single    534\n",
       "Marr.     356\n",
       "Div.        2\n",
       "NTBD        2\n",
       "Sep.        2\n",
       "Name: Marital Status, dtype: int64"
      ]
     },
     "execution_count": 74,
     "metadata": {},
     "output_type": "execute_result"
    }
   ],
   "source": [
    "df['Marital Status'].value_counts()"
   ]
  },
  {
   "cell_type": "code",
   "execution_count": 77,
   "id": "bf5221f4",
   "metadata": {},
   "outputs": [
    {
     "data": {
      "text/html": [
       "<div>\n",
       "<style scoped>\n",
       "    .dataframe tbody tr th:only-of-type {\n",
       "        vertical-align: middle;\n",
       "    }\n",
       "\n",
       "    .dataframe tbody tr th {\n",
       "        vertical-align: top;\n",
       "    }\n",
       "\n",
       "    .dataframe thead th {\n",
       "        text-align: right;\n",
       "    }\n",
       "</style>\n",
       "<table border=\"1\" class=\"dataframe\">\n",
       "  <thead>\n",
       "    <tr style=\"text-align: right;\">\n",
       "      <th></th>\n",
       "      <th>table id</th>\n",
       "      <th>name</th>\n",
       "      <th>phone number</th>\n",
       "      <th>Location</th>\n",
       "      <th>Emp. Group</th>\n",
       "      <th>Function</th>\n",
       "      <th>Gender</th>\n",
       "      <th>Tenure</th>\n",
       "      <th>Tenure Grp.</th>\n",
       "      <th>Experience (YY.MM)</th>\n",
       "      <th>Marital Status</th>\n",
       "      <th>Age in YY.</th>\n",
       "      <th>Hiring Source</th>\n",
       "      <th>Promoted/Non Promoted</th>\n",
       "      <th>Job Role Match</th>\n",
       "      <th>Stay/Left</th>\n",
       "      <th>New Location</th>\n",
       "      <th>New Marital</th>\n",
       "    </tr>\n",
       "  </thead>\n",
       "  <tbody>\n",
       "    <tr>\n",
       "      <th>0</th>\n",
       "      <td>1</td>\n",
       "      <td>sid</td>\n",
       "      <td>9876544345</td>\n",
       "      <td>Pune</td>\n",
       "      <td>B2</td>\n",
       "      <td>Operation</td>\n",
       "      <td>Male</td>\n",
       "      <td>0.00</td>\n",
       "      <td>&lt; =1</td>\n",
       "      <td>6.08</td>\n",
       "      <td>Single</td>\n",
       "      <td>27.12</td>\n",
       "      <td>Direct</td>\n",
       "      <td>Non Promoted</td>\n",
       "      <td>Yes</td>\n",
       "      <td>Left</td>\n",
       "      <td>3</td>\n",
       "      <td>Single</td>\n",
       "    </tr>\n",
       "    <tr>\n",
       "      <th>1</th>\n",
       "      <td>2</td>\n",
       "      <td>sid</td>\n",
       "      <td>9876544345</td>\n",
       "      <td>Noida</td>\n",
       "      <td>B7</td>\n",
       "      <td>Support</td>\n",
       "      <td>Male</td>\n",
       "      <td>0.00</td>\n",
       "      <td>&lt; =1</td>\n",
       "      <td>13.00</td>\n",
       "      <td>Marr.</td>\n",
       "      <td>38.08</td>\n",
       "      <td>Direct</td>\n",
       "      <td>Promoted</td>\n",
       "      <td>No</td>\n",
       "      <td>Stay</td>\n",
       "      <td>6</td>\n",
       "      <td>Marr.</td>\n",
       "    </tr>\n",
       "    <tr>\n",
       "      <th>2</th>\n",
       "      <td>3</td>\n",
       "      <td>sid</td>\n",
       "      <td>9876544345</td>\n",
       "      <td>Bangalore</td>\n",
       "      <td>B3</td>\n",
       "      <td>Operation</td>\n",
       "      <td>Male</td>\n",
       "      <td>0.01</td>\n",
       "      <td>&lt; =1</td>\n",
       "      <td>16.05</td>\n",
       "      <td>Marr.</td>\n",
       "      <td>36.04</td>\n",
       "      <td>Direct</td>\n",
       "      <td>Promoted</td>\n",
       "      <td>Yes</td>\n",
       "      <td>Stay</td>\n",
       "      <td>5</td>\n",
       "      <td>Marr.</td>\n",
       "    </tr>\n",
       "    <tr>\n",
       "      <th>3</th>\n",
       "      <td>4</td>\n",
       "      <td>sid</td>\n",
       "      <td>9876544345</td>\n",
       "      <td>Noida</td>\n",
       "      <td>B2</td>\n",
       "      <td>Operation</td>\n",
       "      <td>Male</td>\n",
       "      <td>0.01</td>\n",
       "      <td>&lt; =1</td>\n",
       "      <td>6.06</td>\n",
       "      <td>Marr.</td>\n",
       "      <td>32.07</td>\n",
       "      <td>Direct</td>\n",
       "      <td>Promoted</td>\n",
       "      <td>Yes</td>\n",
       "      <td>Stay</td>\n",
       "      <td>6</td>\n",
       "      <td>Marr.</td>\n",
       "    </tr>\n",
       "    <tr>\n",
       "      <th>4</th>\n",
       "      <td>5</td>\n",
       "      <td>sid</td>\n",
       "      <td>9876544345</td>\n",
       "      <td>Lucknow</td>\n",
       "      <td>B2</td>\n",
       "      <td>Operation</td>\n",
       "      <td>Male</td>\n",
       "      <td>0.00</td>\n",
       "      <td>&lt; =1</td>\n",
       "      <td>7.00</td>\n",
       "      <td>Marr.</td>\n",
       "      <td>32.05</td>\n",
       "      <td>Direct</td>\n",
       "      <td>Non Promoted</td>\n",
       "      <td>Yes</td>\n",
       "      <td>Stay</td>\n",
       "      <td>1</td>\n",
       "      <td>Marr.</td>\n",
       "    </tr>\n",
       "  </tbody>\n",
       "</table>\n",
       "</div>"
      ],
      "text/plain": [
       "   table id name  phone number   Location Emp. Group   Function Gender   \\\n",
       "0         1  sid    9876544345       Pune         B2  Operation    Male   \n",
       "1         2  sid    9876544345      Noida         B7    Support    Male   \n",
       "2         3  sid    9876544345  Bangalore         B3  Operation    Male   \n",
       "3         4  sid    9876544345      Noida         B2  Operation    Male   \n",
       "4         5  sid    9876544345    Lucknow         B2  Operation    Male   \n",
       "\n",
       "   Tenure Tenure Grp.  Experience (YY.MM) Marital Status  Age in YY.  \\\n",
       "0    0.00        < =1                6.08         Single       27.12   \n",
       "1    0.00        < =1               13.00          Marr.       38.08   \n",
       "2    0.01        < =1               16.05          Marr.       36.04   \n",
       "3    0.01        < =1                6.06          Marr.       32.07   \n",
       "4    0.00        < =1                7.00          Marr.       32.05   \n",
       "\n",
       "  Hiring Source Promoted/Non Promoted Job Role Match Stay/Left  New Location  \\\n",
       "0        Direct          Non Promoted            Yes      Left             3   \n",
       "1        Direct              Promoted             No      Stay             6   \n",
       "2        Direct              Promoted            Yes      Stay             5   \n",
       "3        Direct              Promoted            Yes      Stay             6   \n",
       "4        Direct          Non Promoted            Yes      Stay             1   \n",
       "\n",
       "  New Marital  \n",
       "0      Single  \n",
       "1       Marr.  \n",
       "2       Marr.  \n",
       "3       Marr.  \n",
       "4       Marr.  "
      ]
     },
     "execution_count": 77,
     "metadata": {},
     "output_type": "execute_result"
    }
   ],
   "source": [
    "df['New Marital']= df['Marital Status'].apply(Mar)\n",
    "df.head()"
   ]
  },
  {
   "cell_type": "code",
   "execution_count": 78,
   "id": "e0fdd498",
   "metadata": {},
   "outputs": [
    {
     "data": {
      "text/plain": [
       "Single          534\n",
       "Marr.           356\n",
       "other status      6\n",
       "Name: New Marital, dtype: int64"
      ]
     },
     "execution_count": 78,
     "metadata": {},
     "output_type": "execute_result"
    }
   ],
   "source": [
    "df['New Marital'].value_counts()"
   ]
  },
  {
   "cell_type": "code",
   "execution_count": 83,
   "id": "e58c404d",
   "metadata": {},
   "outputs": [],
   "source": [
    "def promo(x):\n",
    "    if x == \"Promoted\":\n",
    "        return int(1)\n",
    "    else:\n",
    "        return int(0)\n",
    "df['New Promotion'] = df[\"Promoted/Non Promoted\"].apply(promo)"
   ]
  },
  {
   "cell_type": "code",
   "execution_count": 84,
   "id": "72193f49",
   "metadata": {},
   "outputs": [
    {
     "data": {
      "text/html": [
       "<div>\n",
       "<style scoped>\n",
       "    .dataframe tbody tr th:only-of-type {\n",
       "        vertical-align: middle;\n",
       "    }\n",
       "\n",
       "    .dataframe tbody tr th {\n",
       "        vertical-align: top;\n",
       "    }\n",
       "\n",
       "    .dataframe thead th {\n",
       "        text-align: right;\n",
       "    }\n",
       "</style>\n",
       "<table border=\"1\" class=\"dataframe\">\n",
       "  <thead>\n",
       "    <tr style=\"text-align: right;\">\n",
       "      <th></th>\n",
       "      <th>table id</th>\n",
       "      <th>name</th>\n",
       "      <th>phone number</th>\n",
       "      <th>Location</th>\n",
       "      <th>Emp. Group</th>\n",
       "      <th>Function</th>\n",
       "      <th>Gender</th>\n",
       "      <th>Tenure</th>\n",
       "      <th>Tenure Grp.</th>\n",
       "      <th>Experience (YY.MM)</th>\n",
       "      <th>Marital Status</th>\n",
       "      <th>Age in YY.</th>\n",
       "      <th>Hiring Source</th>\n",
       "      <th>Promoted/Non Promoted</th>\n",
       "      <th>Job Role Match</th>\n",
       "      <th>Stay/Left</th>\n",
       "      <th>New Location</th>\n",
       "      <th>New Marital</th>\n",
       "      <th>New Promotion</th>\n",
       "    </tr>\n",
       "  </thead>\n",
       "  <tbody>\n",
       "    <tr>\n",
       "      <th>0</th>\n",
       "      <td>1</td>\n",
       "      <td>sid</td>\n",
       "      <td>9876544345</td>\n",
       "      <td>Pune</td>\n",
       "      <td>B2</td>\n",
       "      <td>Operation</td>\n",
       "      <td>Male</td>\n",
       "      <td>0.00</td>\n",
       "      <td>&lt; =1</td>\n",
       "      <td>6.08</td>\n",
       "      <td>Single</td>\n",
       "      <td>27.12</td>\n",
       "      <td>Direct</td>\n",
       "      <td>Non Promoted</td>\n",
       "      <td>Yes</td>\n",
       "      <td>Left</td>\n",
       "      <td>3</td>\n",
       "      <td>Single</td>\n",
       "      <td>0</td>\n",
       "    </tr>\n",
       "    <tr>\n",
       "      <th>1</th>\n",
       "      <td>2</td>\n",
       "      <td>sid</td>\n",
       "      <td>9876544345</td>\n",
       "      <td>Noida</td>\n",
       "      <td>B7</td>\n",
       "      <td>Support</td>\n",
       "      <td>Male</td>\n",
       "      <td>0.00</td>\n",
       "      <td>&lt; =1</td>\n",
       "      <td>13.00</td>\n",
       "      <td>Marr.</td>\n",
       "      <td>38.08</td>\n",
       "      <td>Direct</td>\n",
       "      <td>Promoted</td>\n",
       "      <td>No</td>\n",
       "      <td>Stay</td>\n",
       "      <td>6</td>\n",
       "      <td>Marr.</td>\n",
       "      <td>1</td>\n",
       "    </tr>\n",
       "    <tr>\n",
       "      <th>2</th>\n",
       "      <td>3</td>\n",
       "      <td>sid</td>\n",
       "      <td>9876544345</td>\n",
       "      <td>Bangalore</td>\n",
       "      <td>B3</td>\n",
       "      <td>Operation</td>\n",
       "      <td>Male</td>\n",
       "      <td>0.01</td>\n",
       "      <td>&lt; =1</td>\n",
       "      <td>16.05</td>\n",
       "      <td>Marr.</td>\n",
       "      <td>36.04</td>\n",
       "      <td>Direct</td>\n",
       "      <td>Promoted</td>\n",
       "      <td>Yes</td>\n",
       "      <td>Stay</td>\n",
       "      <td>5</td>\n",
       "      <td>Marr.</td>\n",
       "      <td>1</td>\n",
       "    </tr>\n",
       "    <tr>\n",
       "      <th>3</th>\n",
       "      <td>4</td>\n",
       "      <td>sid</td>\n",
       "      <td>9876544345</td>\n",
       "      <td>Noida</td>\n",
       "      <td>B2</td>\n",
       "      <td>Operation</td>\n",
       "      <td>Male</td>\n",
       "      <td>0.01</td>\n",
       "      <td>&lt; =1</td>\n",
       "      <td>6.06</td>\n",
       "      <td>Marr.</td>\n",
       "      <td>32.07</td>\n",
       "      <td>Direct</td>\n",
       "      <td>Promoted</td>\n",
       "      <td>Yes</td>\n",
       "      <td>Stay</td>\n",
       "      <td>6</td>\n",
       "      <td>Marr.</td>\n",
       "      <td>1</td>\n",
       "    </tr>\n",
       "    <tr>\n",
       "      <th>4</th>\n",
       "      <td>5</td>\n",
       "      <td>sid</td>\n",
       "      <td>9876544345</td>\n",
       "      <td>Lucknow</td>\n",
       "      <td>B2</td>\n",
       "      <td>Operation</td>\n",
       "      <td>Male</td>\n",
       "      <td>0.00</td>\n",
       "      <td>&lt; =1</td>\n",
       "      <td>7.00</td>\n",
       "      <td>Marr.</td>\n",
       "      <td>32.05</td>\n",
       "      <td>Direct</td>\n",
       "      <td>Non Promoted</td>\n",
       "      <td>Yes</td>\n",
       "      <td>Stay</td>\n",
       "      <td>1</td>\n",
       "      <td>Marr.</td>\n",
       "      <td>0</td>\n",
       "    </tr>\n",
       "  </tbody>\n",
       "</table>\n",
       "</div>"
      ],
      "text/plain": [
       "   table id name  phone number   Location Emp. Group   Function Gender   \\\n",
       "0         1  sid    9876544345       Pune         B2  Operation    Male   \n",
       "1         2  sid    9876544345      Noida         B7    Support    Male   \n",
       "2         3  sid    9876544345  Bangalore         B3  Operation    Male   \n",
       "3         4  sid    9876544345      Noida         B2  Operation    Male   \n",
       "4         5  sid    9876544345    Lucknow         B2  Operation    Male   \n",
       "\n",
       "   Tenure Tenure Grp.  Experience (YY.MM) Marital Status  Age in YY.  \\\n",
       "0    0.00        < =1                6.08         Single       27.12   \n",
       "1    0.00        < =1               13.00          Marr.       38.08   \n",
       "2    0.01        < =1               16.05          Marr.       36.04   \n",
       "3    0.01        < =1                6.06          Marr.       32.07   \n",
       "4    0.00        < =1                7.00          Marr.       32.05   \n",
       "\n",
       "  Hiring Source Promoted/Non Promoted Job Role Match Stay/Left  New Location  \\\n",
       "0        Direct          Non Promoted            Yes      Left             3   \n",
       "1        Direct              Promoted             No      Stay             6   \n",
       "2        Direct              Promoted            Yes      Stay             5   \n",
       "3        Direct              Promoted            Yes      Stay             6   \n",
       "4        Direct          Non Promoted            Yes      Stay             1   \n",
       "\n",
       "  New Marital  New Promotion  \n",
       "0      Single              0  \n",
       "1       Marr.              1  \n",
       "2       Marr.              1  \n",
       "3       Marr.              1  \n",
       "4       Marr.              0  "
      ]
     },
     "execution_count": 84,
     "metadata": {},
     "output_type": "execute_result"
    }
   ],
   "source": [
    "df.head()"
   ]
  },
  {
   "cell_type": "code",
   "execution_count": 86,
   "id": "faad43af",
   "metadata": {},
   "outputs": [
    {
     "data": {
      "text/plain": [
       "B1    537\n",
       "B2    276\n",
       "B3     59\n",
       "B0      8\n",
       "B4      7\n",
       "B5      4\n",
       "B7      2\n",
       "B6      1\n",
       "C3      1\n",
       "D2      1\n",
       "Name: Emp. Group, dtype: int64"
      ]
     },
     "execution_count": 86,
     "metadata": {},
     "output_type": "execute_result"
    }
   ],
   "source": [
    "df['Emp. Group'].value_counts()"
   ]
  },
  {
   "cell_type": "code",
   "execution_count": 87,
   "id": "49cb93aa",
   "metadata": {},
   "outputs": [
    {
     "data": {
      "text/html": [
       "<div>\n",
       "<style scoped>\n",
       "    .dataframe tbody tr th:only-of-type {\n",
       "        vertical-align: middle;\n",
       "    }\n",
       "\n",
       "    .dataframe tbody tr th {\n",
       "        vertical-align: top;\n",
       "    }\n",
       "\n",
       "    .dataframe thead th {\n",
       "        text-align: right;\n",
       "    }\n",
       "</style>\n",
       "<table border=\"1\" class=\"dataframe\">\n",
       "  <thead>\n",
       "    <tr style=\"text-align: right;\">\n",
       "      <th></th>\n",
       "      <th>table id</th>\n",
       "      <th>name</th>\n",
       "      <th>phone number</th>\n",
       "      <th>Location</th>\n",
       "      <th>Emp. Group</th>\n",
       "      <th>Function</th>\n",
       "      <th>Gender</th>\n",
       "      <th>Tenure</th>\n",
       "      <th>Tenure Grp.</th>\n",
       "      <th>Experience (YY.MM)</th>\n",
       "      <th>Marital Status</th>\n",
       "      <th>Age in YY.</th>\n",
       "      <th>Hiring Source</th>\n",
       "      <th>Promoted/Non Promoted</th>\n",
       "      <th>Job Role Match</th>\n",
       "      <th>Stay/Left</th>\n",
       "      <th>New Location</th>\n",
       "      <th>New Marital</th>\n",
       "      <th>New Promotion</th>\n",
       "      <th>New EMP</th>\n",
       "    </tr>\n",
       "  </thead>\n",
       "  <tbody>\n",
       "    <tr>\n",
       "      <th>0</th>\n",
       "      <td>1</td>\n",
       "      <td>sid</td>\n",
       "      <td>9876544345</td>\n",
       "      <td>Pune</td>\n",
       "      <td>B2</td>\n",
       "      <td>Operation</td>\n",
       "      <td>Male</td>\n",
       "      <td>0.00</td>\n",
       "      <td>&lt; =1</td>\n",
       "      <td>6.08</td>\n",
       "      <td>Single</td>\n",
       "      <td>27.12</td>\n",
       "      <td>Direct</td>\n",
       "      <td>Non Promoted</td>\n",
       "      <td>Yes</td>\n",
       "      <td>Left</td>\n",
       "      <td>3</td>\n",
       "      <td>Single</td>\n",
       "      <td>0</td>\n",
       "      <td>B2</td>\n",
       "    </tr>\n",
       "    <tr>\n",
       "      <th>1</th>\n",
       "      <td>2</td>\n",
       "      <td>sid</td>\n",
       "      <td>9876544345</td>\n",
       "      <td>Noida</td>\n",
       "      <td>B7</td>\n",
       "      <td>Support</td>\n",
       "      <td>Male</td>\n",
       "      <td>0.00</td>\n",
       "      <td>&lt; =1</td>\n",
       "      <td>13.00</td>\n",
       "      <td>Marr.</td>\n",
       "      <td>38.08</td>\n",
       "      <td>Direct</td>\n",
       "      <td>Promoted</td>\n",
       "      <td>No</td>\n",
       "      <td>Stay</td>\n",
       "      <td>6</td>\n",
       "      <td>Marr.</td>\n",
       "      <td>1</td>\n",
       "      <td>other group</td>\n",
       "    </tr>\n",
       "    <tr>\n",
       "      <th>2</th>\n",
       "      <td>3</td>\n",
       "      <td>sid</td>\n",
       "      <td>9876544345</td>\n",
       "      <td>Bangalore</td>\n",
       "      <td>B3</td>\n",
       "      <td>Operation</td>\n",
       "      <td>Male</td>\n",
       "      <td>0.01</td>\n",
       "      <td>&lt; =1</td>\n",
       "      <td>16.05</td>\n",
       "      <td>Marr.</td>\n",
       "      <td>36.04</td>\n",
       "      <td>Direct</td>\n",
       "      <td>Promoted</td>\n",
       "      <td>Yes</td>\n",
       "      <td>Stay</td>\n",
       "      <td>5</td>\n",
       "      <td>Marr.</td>\n",
       "      <td>1</td>\n",
       "      <td>B3</td>\n",
       "    </tr>\n",
       "    <tr>\n",
       "      <th>3</th>\n",
       "      <td>4</td>\n",
       "      <td>sid</td>\n",
       "      <td>9876544345</td>\n",
       "      <td>Noida</td>\n",
       "      <td>B2</td>\n",
       "      <td>Operation</td>\n",
       "      <td>Male</td>\n",
       "      <td>0.01</td>\n",
       "      <td>&lt; =1</td>\n",
       "      <td>6.06</td>\n",
       "      <td>Marr.</td>\n",
       "      <td>32.07</td>\n",
       "      <td>Direct</td>\n",
       "      <td>Promoted</td>\n",
       "      <td>Yes</td>\n",
       "      <td>Stay</td>\n",
       "      <td>6</td>\n",
       "      <td>Marr.</td>\n",
       "      <td>1</td>\n",
       "      <td>B2</td>\n",
       "    </tr>\n",
       "    <tr>\n",
       "      <th>4</th>\n",
       "      <td>5</td>\n",
       "      <td>sid</td>\n",
       "      <td>9876544345</td>\n",
       "      <td>Lucknow</td>\n",
       "      <td>B2</td>\n",
       "      <td>Operation</td>\n",
       "      <td>Male</td>\n",
       "      <td>0.00</td>\n",
       "      <td>&lt; =1</td>\n",
       "      <td>7.00</td>\n",
       "      <td>Marr.</td>\n",
       "      <td>32.05</td>\n",
       "      <td>Direct</td>\n",
       "      <td>Non Promoted</td>\n",
       "      <td>Yes</td>\n",
       "      <td>Stay</td>\n",
       "      <td>1</td>\n",
       "      <td>Marr.</td>\n",
       "      <td>0</td>\n",
       "      <td>B2</td>\n",
       "    </tr>\n",
       "  </tbody>\n",
       "</table>\n",
       "</div>"
      ],
      "text/plain": [
       "   table id name  phone number   Location Emp. Group   Function Gender   \\\n",
       "0         1  sid    9876544345       Pune         B2  Operation    Male   \n",
       "1         2  sid    9876544345      Noida         B7    Support    Male   \n",
       "2         3  sid    9876544345  Bangalore         B3  Operation    Male   \n",
       "3         4  sid    9876544345      Noida         B2  Operation    Male   \n",
       "4         5  sid    9876544345    Lucknow         B2  Operation    Male   \n",
       "\n",
       "   Tenure Tenure Grp.  Experience (YY.MM) Marital Status  Age in YY.  \\\n",
       "0    0.00        < =1                6.08         Single       27.12   \n",
       "1    0.00        < =1               13.00          Marr.       38.08   \n",
       "2    0.01        < =1               16.05          Marr.       36.04   \n",
       "3    0.01        < =1                6.06          Marr.       32.07   \n",
       "4    0.00        < =1                7.00          Marr.       32.05   \n",
       "\n",
       "  Hiring Source Promoted/Non Promoted Job Role Match Stay/Left  New Location  \\\n",
       "0        Direct          Non Promoted            Yes      Left             3   \n",
       "1        Direct              Promoted             No      Stay             6   \n",
       "2        Direct              Promoted            Yes      Stay             5   \n",
       "3        Direct              Promoted            Yes      Stay             6   \n",
       "4        Direct          Non Promoted            Yes      Stay             1   \n",
       "\n",
       "  New Marital  New Promotion      New EMP  \n",
       "0      Single              0           B2  \n",
       "1       Marr.              1  other group  \n",
       "2       Marr.              1           B3  \n",
       "3       Marr.              1           B2  \n",
       "4       Marr.              0           B2  "
      ]
     },
     "execution_count": 87,
     "metadata": {},
     "output_type": "execute_result"
    }
   ],
   "source": [
    "emp_dict_new = {\n",
    "    'B1': 4,\n",
    "    'B2': 3,\n",
    "    'B3': 2,\n",
    "    'other group': 1,    \n",
    "}\n",
    "\n",
    "\n",
    "def emp(x):\n",
    "    if str(x) in emp_dict_new.keys():\n",
    "        return str(x)\n",
    "    else:\n",
    "        return \"other group\"\n",
    "    \n",
    "df['New EMP']= df[\"Emp. Group\"].apply(emp)\n",
    "df.head()"
   ]
  },
  {
   "cell_type": "code",
   "execution_count": 88,
   "id": "0b9e20e3",
   "metadata": {},
   "outputs": [
    {
     "data": {
      "text/html": [
       "<div>\n",
       "<style scoped>\n",
       "    .dataframe tbody tr th:only-of-type {\n",
       "        vertical-align: middle;\n",
       "    }\n",
       "\n",
       "    .dataframe tbody tr th {\n",
       "        vertical-align: top;\n",
       "    }\n",
       "\n",
       "    .dataframe thead th {\n",
       "        text-align: right;\n",
       "    }\n",
       "</style>\n",
       "<table border=\"1\" class=\"dataframe\">\n",
       "  <thead>\n",
       "    <tr style=\"text-align: right;\">\n",
       "      <th></th>\n",
       "      <th>table id</th>\n",
       "      <th>name</th>\n",
       "      <th>phone number</th>\n",
       "      <th>Location</th>\n",
       "      <th>Emp. Group</th>\n",
       "      <th>Function</th>\n",
       "      <th>Gender</th>\n",
       "      <th>Tenure</th>\n",
       "      <th>Tenure Grp.</th>\n",
       "      <th>Experience (YY.MM)</th>\n",
       "      <th>...</th>\n",
       "      <th>Age in YY.</th>\n",
       "      <th>Hiring Source</th>\n",
       "      <th>Promoted/Non Promoted</th>\n",
       "      <th>Job Role Match</th>\n",
       "      <th>Stay/Left</th>\n",
       "      <th>New Location</th>\n",
       "      <th>New Marital</th>\n",
       "      <th>New Promotion</th>\n",
       "      <th>New EMP</th>\n",
       "      <th>New Job Role Match</th>\n",
       "    </tr>\n",
       "  </thead>\n",
       "  <tbody>\n",
       "    <tr>\n",
       "      <th>0</th>\n",
       "      <td>1</td>\n",
       "      <td>sid</td>\n",
       "      <td>9876544345</td>\n",
       "      <td>Pune</td>\n",
       "      <td>B2</td>\n",
       "      <td>Operation</td>\n",
       "      <td>Male</td>\n",
       "      <td>0.00</td>\n",
       "      <td>&lt; =1</td>\n",
       "      <td>6.08</td>\n",
       "      <td>...</td>\n",
       "      <td>27.12</td>\n",
       "      <td>Direct</td>\n",
       "      <td>Non Promoted</td>\n",
       "      <td>Yes</td>\n",
       "      <td>Left</td>\n",
       "      <td>3</td>\n",
       "      <td>Single</td>\n",
       "      <td>0</td>\n",
       "      <td>B2</td>\n",
       "      <td>1</td>\n",
       "    </tr>\n",
       "    <tr>\n",
       "      <th>1</th>\n",
       "      <td>2</td>\n",
       "      <td>sid</td>\n",
       "      <td>9876544345</td>\n",
       "      <td>Noida</td>\n",
       "      <td>B7</td>\n",
       "      <td>Support</td>\n",
       "      <td>Male</td>\n",
       "      <td>0.00</td>\n",
       "      <td>&lt; =1</td>\n",
       "      <td>13.00</td>\n",
       "      <td>...</td>\n",
       "      <td>38.08</td>\n",
       "      <td>Direct</td>\n",
       "      <td>Promoted</td>\n",
       "      <td>No</td>\n",
       "      <td>Stay</td>\n",
       "      <td>6</td>\n",
       "      <td>Marr.</td>\n",
       "      <td>1</td>\n",
       "      <td>other group</td>\n",
       "      <td>0</td>\n",
       "    </tr>\n",
       "    <tr>\n",
       "      <th>2</th>\n",
       "      <td>3</td>\n",
       "      <td>sid</td>\n",
       "      <td>9876544345</td>\n",
       "      <td>Bangalore</td>\n",
       "      <td>B3</td>\n",
       "      <td>Operation</td>\n",
       "      <td>Male</td>\n",
       "      <td>0.01</td>\n",
       "      <td>&lt; =1</td>\n",
       "      <td>16.05</td>\n",
       "      <td>...</td>\n",
       "      <td>36.04</td>\n",
       "      <td>Direct</td>\n",
       "      <td>Promoted</td>\n",
       "      <td>Yes</td>\n",
       "      <td>Stay</td>\n",
       "      <td>5</td>\n",
       "      <td>Marr.</td>\n",
       "      <td>1</td>\n",
       "      <td>B3</td>\n",
       "      <td>1</td>\n",
       "    </tr>\n",
       "    <tr>\n",
       "      <th>3</th>\n",
       "      <td>4</td>\n",
       "      <td>sid</td>\n",
       "      <td>9876544345</td>\n",
       "      <td>Noida</td>\n",
       "      <td>B2</td>\n",
       "      <td>Operation</td>\n",
       "      <td>Male</td>\n",
       "      <td>0.01</td>\n",
       "      <td>&lt; =1</td>\n",
       "      <td>6.06</td>\n",
       "      <td>...</td>\n",
       "      <td>32.07</td>\n",
       "      <td>Direct</td>\n",
       "      <td>Promoted</td>\n",
       "      <td>Yes</td>\n",
       "      <td>Stay</td>\n",
       "      <td>6</td>\n",
       "      <td>Marr.</td>\n",
       "      <td>1</td>\n",
       "      <td>B2</td>\n",
       "      <td>1</td>\n",
       "    </tr>\n",
       "    <tr>\n",
       "      <th>4</th>\n",
       "      <td>5</td>\n",
       "      <td>sid</td>\n",
       "      <td>9876544345</td>\n",
       "      <td>Lucknow</td>\n",
       "      <td>B2</td>\n",
       "      <td>Operation</td>\n",
       "      <td>Male</td>\n",
       "      <td>0.00</td>\n",
       "      <td>&lt; =1</td>\n",
       "      <td>7.00</td>\n",
       "      <td>...</td>\n",
       "      <td>32.05</td>\n",
       "      <td>Direct</td>\n",
       "      <td>Non Promoted</td>\n",
       "      <td>Yes</td>\n",
       "      <td>Stay</td>\n",
       "      <td>1</td>\n",
       "      <td>Marr.</td>\n",
       "      <td>0</td>\n",
       "      <td>B2</td>\n",
       "      <td>1</td>\n",
       "    </tr>\n",
       "  </tbody>\n",
       "</table>\n",
       "<p>5 rows × 21 columns</p>\n",
       "</div>"
      ],
      "text/plain": [
       "   table id name  phone number   Location Emp. Group   Function Gender   \\\n",
       "0         1  sid    9876544345       Pune         B2  Operation    Male   \n",
       "1         2  sid    9876544345      Noida         B7    Support    Male   \n",
       "2         3  sid    9876544345  Bangalore         B3  Operation    Male   \n",
       "3         4  sid    9876544345      Noida         B2  Operation    Male   \n",
       "4         5  sid    9876544345    Lucknow         B2  Operation    Male   \n",
       "\n",
       "   Tenure Tenure Grp.  Experience (YY.MM)  ... Age in YY.  Hiring Source  \\\n",
       "0    0.00        < =1                6.08  ...      27.12         Direct   \n",
       "1    0.00        < =1               13.00  ...      38.08         Direct   \n",
       "2    0.01        < =1               16.05  ...      36.04         Direct   \n",
       "3    0.01        < =1                6.06  ...      32.07         Direct   \n",
       "4    0.00        < =1                7.00  ...      32.05         Direct   \n",
       "\n",
       "  Promoted/Non Promoted Job Role Match Stay/Left New Location  New Marital  \\\n",
       "0          Non Promoted            Yes      Left            3       Single   \n",
       "1              Promoted             No      Stay            6        Marr.   \n",
       "2              Promoted            Yes      Stay            5        Marr.   \n",
       "3              Promoted            Yes      Stay            6        Marr.   \n",
       "4          Non Promoted            Yes      Stay            1        Marr.   \n",
       "\n",
       "  New Promotion      New EMP New Job Role Match  \n",
       "0             0           B2                  1  \n",
       "1             1  other group                  0  \n",
       "2             1           B3                  1  \n",
       "3             1           B2                  1  \n",
       "4             0           B2                  1  \n",
       "\n",
       "[5 rows x 21 columns]"
      ]
     },
     "execution_count": 88,
     "metadata": {},
     "output_type": "execute_result"
    }
   ],
   "source": [
    "def job(x):\n",
    "    if x == \"Yes\":\n",
    "        return int(1)\n",
    "    else:\n",
    "        return int(0)\n",
    "    \n",
    "df['New Job Role Match'] = df['Job Role Match'].apply(job)\n",
    "df.head()"
   ]
  },
  {
   "cell_type": "code",
   "execution_count": 90,
   "id": "d612fdd0",
   "metadata": {},
   "outputs": [
    {
     "data": {
      "text/plain": [
       "Male      656\n",
       "Female    234\n",
       "other       6\n",
       "Name: Gender , dtype: int64"
      ]
     },
     "execution_count": 90,
     "metadata": {},
     "output_type": "execute_result"
    }
   ],
   "source": [
    "df['Gender '].value_counts()"
   ]
  },
  {
   "cell_type": "code",
   "execution_count": 91,
   "id": "8868398a",
   "metadata": {},
   "outputs": [
    {
     "data": {
      "text/plain": [
       "Index(['table id', 'name', 'phone number', 'Location', 'Emp. Group',\n",
       "       'Function', 'Gender ', 'Tenure', 'Tenure Grp.', 'Experience (YY.MM)',\n",
       "       'Marital Status', 'Age in YY.', 'Hiring Source',\n",
       "       'Promoted/Non Promoted', 'Job Role Match', 'Stay/Left', 'New Location',\n",
       "       'New Marital', 'New Promotion', 'New EMP', 'New Job Role Match'],\n",
       "      dtype='object')"
      ]
     },
     "execution_count": 91,
     "metadata": {},
     "output_type": "execute_result"
    }
   ],
   "source": [
    "df.columns"
   ]
  },
  {
   "cell_type": "code",
   "execution_count": 93,
   "id": "c4418da9",
   "metadata": {},
   "outputs": [
    {
     "name": "stdout",
     "output_type": "stream",
     "text": [
      "name\n",
      "Location\n",
      "Emp. Group\n",
      "Function\n",
      "Gender \n",
      "Tenure Grp.\n",
      "Marital Status\n",
      "Hiring Source\n",
      "Promoted/Non Promoted\n",
      "Job Role Match\n",
      "Stay/Left\n",
      "New Marital\n",
      "New EMP\n"
     ]
    }
   ],
   "source": [
    "for col in df.columns:\n",
    "    if df[col].dtype == object:\n",
    "        print(col)"
   ]
  },
  {
   "cell_type": "code",
   "execution_count": 95,
   "id": "fdd775df",
   "metadata": {},
   "outputs": [],
   "source": [
    "# name_dummy = pd.get_dummies(df['name'])\n",
    "tenure_grp_dummy = pd.get_dummies(df['Tenure Grp.'])\n",
    "gender_dummy = pd.get_dummies(df['Gender '])\n",
    "marit_dummy = pd.get_dummies(df['New Marital'])\n",
    "func_dummy = pd.get_dummies(df['Function'])\n",
    "hiring_source_dummy = pd.get_dummies(df['Hiring Source'])\n",
    "emp_dummy = pd.get_dummies(df['New EMP'])"
   ]
  },
  {
   "cell_type": "code",
   "execution_count": 96,
   "id": "60c567b3",
   "metadata": {},
   "outputs": [],
   "source": [
    "df1 = pd.concat([df, tenure_grp_dummy,gender_dummy, marit_dummy,\n",
    "                func_dummy, hiring_source_dummy,\n",
    "                emp_dummy,], axis=1)"
   ]
  },
  {
   "cell_type": "code",
   "execution_count": 97,
   "id": "094bf683",
   "metadata": {},
   "outputs": [
    {
     "data": {
      "text/plain": [
       "(896, 39)"
      ]
     },
     "execution_count": 97,
     "metadata": {},
     "output_type": "execute_result"
    }
   ],
   "source": [
    "df1.shape"
   ]
  },
  {
   "cell_type": "code",
   "execution_count": 99,
   "id": "5c13979b",
   "metadata": {
    "scrolled": true
   },
   "outputs": [
    {
     "name": "stdout",
     "output_type": "stream",
     "text": [
      "table id\n",
      "phone number\n",
      "Tenure\n",
      "Experience (YY.MM)\n",
      "Age in YY.\n",
      "New Location\n",
      "New Promotion\n",
      "New Job Role Match\n",
      "< =1\n",
      "> 1 & < =3\n",
      "Female\n",
      "Male\n",
      "other\n",
      "Marr.\n",
      "Single\n",
      "other status\n",
      "Operation\n",
      "Sales\n",
      "Support\n",
      "Agency\n",
      "Direct\n",
      "Employee Referral\n",
      "B1\n",
      "B2\n",
      "B3\n",
      "other group\n"
     ]
    }
   ],
   "source": [
    "for col in df1:\n",
    "    if df1[col].dtype != object:\n",
    "        print( col )"
   ]
  },
  {
   "cell_type": "code",
   "execution_count": 101,
   "id": "8a18e972",
   "metadata": {},
   "outputs": [],
   "source": [
    "df1.drop([\"table id\", \"name\", \"Marital Status\",\"Promoted/Non Promoted\",\"Function\",\"Emp. Group\",\"Job Role Match\",\"Location\"\n",
    "              ,\"Hiring Source\",\"Gender \", 'Tenure','New Marital', 'New EMP'],axis=1,inplace=True)"
   ]
  },
  {
   "cell_type": "code",
   "execution_count": 102,
   "id": "d6e30e65",
   "metadata": {},
   "outputs": [
    {
     "data": {
      "text/plain": [
       "(896, 26)"
      ]
     },
     "execution_count": 102,
     "metadata": {},
     "output_type": "execute_result"
    }
   ],
   "source": [
    "df1.shape"
   ]
  },
  {
   "cell_type": "code",
   "execution_count": 107,
   "id": "3f4ae184",
   "metadata": {},
   "outputs": [
    {
     "data": {
      "text/plain": [
       "Stay    592\n",
       "Left    304\n",
       "Name: Stay/Left, dtype: int64"
      ]
     },
     "execution_count": 107,
     "metadata": {},
     "output_type": "execute_result"
    }
   ],
   "source": [
    "df1['Stay/Left'].value_counts()"
   ]
  },
  {
   "cell_type": "code",
   "execution_count": 108,
   "id": "173b8384",
   "metadata": {},
   "outputs": [],
   "source": [
    "def target(x):\n",
    "    if x == \"Stay\":\n",
    "        return int(1)\n",
    "    else:\n",
    "        return int(0)"
   ]
  },
  {
   "cell_type": "code",
   "execution_count": 109,
   "id": "2062765c",
   "metadata": {},
   "outputs": [],
   "source": [
    "df1['target'] = df1['Stay/Left'].apply(target)"
   ]
  },
  {
   "cell_type": "code",
   "execution_count": 131,
   "id": "cc82b4cd",
   "metadata": {},
   "outputs": [],
   "source": [
    "df1.drop(['Tenure Grp.'], axis=1, inplace=True)"
   ]
  },
  {
   "cell_type": "code",
   "execution_count": 112,
   "id": "1e737607",
   "metadata": {},
   "outputs": [],
   "source": [
    "df1.drop(['Stay/Left'], axis=1, inplace=True)"
   ]
  },
  {
   "cell_type": "code",
   "execution_count": 132,
   "id": "92e0adeb",
   "metadata": {},
   "outputs": [],
   "source": [
    "df1.to_csv(\"processed_table.csv\")"
   ]
  },
  {
   "cell_type": "code",
   "execution_count": null,
   "id": "3d52a313",
   "metadata": {},
   "outputs": [],
   "source": []
  },
  {
   "cell_type": "code",
   "execution_count": 133,
   "id": "5468d1a2",
   "metadata": {},
   "outputs": [],
   "source": [
    "df2 = pd.read_csv('processed_table.csv')"
   ]
  },
  {
   "cell_type": "code",
   "execution_count": 134,
   "id": "9bdc37db",
   "metadata": {},
   "outputs": [
    {
     "name": "stdout",
     "output_type": "stream",
     "text": [
      "<class 'pandas.core.frame.DataFrame'>\n",
      "RangeIndex: 896 entries, 0 to 895\n",
      "Data columns (total 26 columns):\n",
      " #   Column              Non-Null Count  Dtype  \n",
      "---  ------              --------------  -----  \n",
      " 0   Unnamed: 0          896 non-null    int64  \n",
      " 1   phone number        896 non-null    int64  \n",
      " 2   Experience (YY.MM)  896 non-null    float64\n",
      " 3   Age in YY.          896 non-null    float64\n",
      " 4   New Location        896 non-null    int64  \n",
      " 5   New Promotion       896 non-null    int64  \n",
      " 6   New Job Role Match  896 non-null    int64  \n",
      " 7   < =1                896 non-null    int64  \n",
      " 8   > 1 & < =3          896 non-null    int64  \n",
      " 9   Female              896 non-null    int64  \n",
      " 10  Male                896 non-null    int64  \n",
      " 11  other               896 non-null    int64  \n",
      " 12  Marr.               896 non-null    int64  \n",
      " 13  Single              896 non-null    int64  \n",
      " 14  other status        896 non-null    int64  \n",
      " 15  Operation           896 non-null    int64  \n",
      " 16  Sales               896 non-null    int64  \n",
      " 17  Support             896 non-null    int64  \n",
      " 18  Agency              896 non-null    int64  \n",
      " 19  Direct              896 non-null    int64  \n",
      " 20  Employee Referral   896 non-null    int64  \n",
      " 21  B1                  896 non-null    int64  \n",
      " 22  B2                  896 non-null    int64  \n",
      " 23  B3                  896 non-null    int64  \n",
      " 24  other group         896 non-null    int64  \n",
      " 25  target              896 non-null    int64  \n",
      "dtypes: float64(2), int64(24)\n",
      "memory usage: 182.1 KB\n"
     ]
    }
   ],
   "source": [
    "df2.info()"
   ]
  },
  {
   "cell_type": "code",
   "execution_count": 135,
   "id": "3bf0d785",
   "metadata": {},
   "outputs": [],
   "source": [
    "X = df2.drop('target', axis=1)\n",
    "y = df2['target']"
   ]
  },
  {
   "cell_type": "code",
   "execution_count": 117,
   "id": "b2874aec",
   "metadata": {},
   "outputs": [],
   "source": [
    "from sklearn.model_selection import train_test_split"
   ]
  },
  {
   "cell_type": "code",
   "execution_count": 136,
   "id": "682df285",
   "metadata": {},
   "outputs": [],
   "source": [
    "X_train, X_test, y_train, y_test = train_test_split(X,y, test_size=0.2, random_state=4)"
   ]
  },
  {
   "cell_type": "code",
   "execution_count": 137,
   "id": "86c6be8c",
   "metadata": {},
   "outputs": [
    {
     "data": {
      "text/plain": [
       "(716, 25)"
      ]
     },
     "execution_count": 137,
     "metadata": {},
     "output_type": "execute_result"
    }
   ],
   "source": [
    "X_train.shape"
   ]
  },
  {
   "cell_type": "code",
   "execution_count": 138,
   "id": "afc7f5b0",
   "metadata": {},
   "outputs": [
    {
     "data": {
      "text/plain": [
       "(716,)"
      ]
     },
     "execution_count": 138,
     "metadata": {},
     "output_type": "execute_result"
    }
   ],
   "source": [
    "y_train.shape"
   ]
  },
  {
   "cell_type": "code",
   "execution_count": null,
   "id": "8a1aab4a",
   "metadata": {},
   "outputs": [],
   "source": []
  },
  {
   "cell_type": "code",
   "execution_count": 142,
   "id": "72ddf848",
   "metadata": {},
   "outputs": [],
   "source": [
    "from sklearn.linear_model import LogisticRegression\n",
    "from sklearn.tree import DecisionTreeClassifier\n",
    "from sklearn.ensemble import RandomForestClassifier\n",
    "from sklearn.naive_bayes import GaussianNB\n",
    "\n",
    "from sklearn.metrics import accuracy_score"
   ]
  },
  {
   "cell_type": "code",
   "execution_count": 125,
   "id": "a28e412c",
   "metadata": {},
   "outputs": [],
   "source": [
    "logReg = LogisticRegression(C=0.1, solver='liblinear')\n",
    "DecTree = DecisionTreeClassifier()\n",
    "RF = RandomForestClassifier()\n",
    "GausNB = GaussianNB()"
   ]
  },
  {
   "cell_type": "code",
   "execution_count": 143,
   "id": "360933b1",
   "metadata": {},
   "outputs": [
    {
     "name": "stdout",
     "output_type": "stream",
     "text": [
      "[LogisticRegression] training accuracy: 0.662011\n",
      "[LogisticRegression] testing accuracy: 0.655556\n",
      "[DecisionTree] training accuracy: 1.000000\n",
      "[DecisionTree] testing accuracy: 0.855556\n",
      "[RandomForest] training accuracy: 1.000000\n",
      "[RandomForest] testing accuracy: 0.883333\n",
      "[GaussianNB] training accuracy: 0.877095\n",
      "[GaussianNB] testing accuracy: 0.811111\n"
     ]
    }
   ],
   "source": [
    "for model, name in zip([logReg, DecTree, RF, GausNB],\n",
    "               ['LogisticRegression', 'DecisionTree','RandomForest','GaussianNB']):\n",
    "    model.fit(X_train, y_train)\n",
    "    train_pred = model.predict(X_train)\n",
    "    test_pred = model.predict(X_test)\n",
    "    train_accu = accuracy_score(y_train,train_pred)\n",
    "    test_accu = accuracy_score(y_test, test_pred)\n",
    "    train_msg = \"[%s] training accuracy: %f\" % (name, train_accu)\n",
    "    test_msg = \"[%s] testing accuracy: %f\" % (name, test_accu)\n",
    "    print(train_msg)\n",
    "    print(test_msg)"
   ]
  },
  {
   "cell_type": "code",
   "execution_count": 148,
   "id": "95d05cca",
   "metadata": {},
   "outputs": [
    {
     "name": "stdout",
     "output_type": "stream",
     "text": [
      "0.6555555555555556\n"
     ]
    }
   ],
   "source": [
    "model = logReg.fit(X_train, y_train)\n",
    "y_pred = model.predict(X_test)\n",
    "score = accuracy_score(y_test, y_pred)\n",
    "print(score)"
   ]
  },
  {
   "cell_type": "code",
   "execution_count": 150,
   "id": "210ecae2",
   "metadata": {},
   "outputs": [],
   "source": [
    "import pickle\n",
    "\n",
    "model = logReg.fit(X_train, y_train)\n",
    "file = 'evaluated_model.pkl'\n",
    "pickle.dump(model, open(file, \"wb\"))"
   ]
  },
  {
   "cell_type": "code",
   "execution_count": 155,
   "id": "f16c4098",
   "metadata": {},
   "outputs": [],
   "source": [
    "with open('evaluated_model.pkl', 'rb') as file:\n",
    "    evail_model = pickle.load(file)"
   ]
  },
  {
   "cell_type": "code",
   "execution_count": 154,
   "id": "7a053c8d",
   "metadata": {},
   "outputs": [],
   "source": [
    "test_s = X_train.iloc[10:11,:].values"
   ]
  },
  {
   "cell_type": "code",
   "execution_count": 166,
   "id": "8e4c8161",
   "metadata": {},
   "outputs": [],
   "source": [
    "for i in range(len(X_train)):\n",
    "    if evail_model.predict(X_train.iloc[i:i+1,:])[0] == 0:\n",
    "        print(\"hello\")"
   ]
  },
  {
   "cell_type": "code",
   "execution_count": 158,
   "id": "85c8bd60",
   "metadata": {},
   "outputs": [
    {
     "name": "stderr",
     "output_type": "stream",
     "text": [
      "C:\\Users\\LENOVO\\anaconda3\\lib\\site-packages\\sklearn\\base.py:450: UserWarning: X does not have valid feature names, but LogisticRegression was fitted with feature names\n",
      "  warnings.warn(\n"
     ]
    },
    {
     "data": {
      "text/plain": [
       "array([1], dtype=int64)"
      ]
     },
     "execution_count": 158,
     "metadata": {},
     "output_type": "execute_result"
    }
   ],
   "source": [
    "evail_model.predict(test_s)"
   ]
  },
  {
   "cell_type": "code",
   "execution_count": 162,
   "id": "95de65e6",
   "metadata": {},
   "outputs": [
    {
     "data": {
      "text/plain": [
       "385    1\n",
       "215    0\n",
       "399    1\n",
       "411    0\n",
       "354    1\n",
       "      ..\n",
       "360    0\n",
       "709    0\n",
       "439    1\n",
       "174    0\n",
       "122    1\n",
       "Name: target, Length: 716, dtype: int64"
      ]
     },
     "execution_count": 162,
     "metadata": {},
     "output_type": "execute_result"
    }
   ],
   "source": [
    "y_train"
   ]
  },
  {
   "cell_type": "code",
   "execution_count": 168,
   "id": "4b8c507a",
   "metadata": {},
   "outputs": [
    {
     "data": {
      "text/plain": [
       "'1.0.2'"
      ]
     },
     "execution_count": 168,
     "metadata": {},
     "output_type": "execute_result"
    }
   ],
   "source": [
    "import sklearn\n",
    "sklearn.__version__"
   ]
  }
 ],
 "metadata": {
  "kernelspec": {
   "display_name": "ML",
   "language": "python",
   "name": "ml"
  },
  "language_info": {
   "codemirror_mode": {
    "name": "ipython",
    "version": 3
   },
   "file_extension": ".py",
   "mimetype": "text/x-python",
   "name": "python",
   "nbconvert_exporter": "python",
   "pygments_lexer": "ipython3",
   "version": "3.9.12"
  }
 },
 "nbformat": 4,
 "nbformat_minor": 5
}
