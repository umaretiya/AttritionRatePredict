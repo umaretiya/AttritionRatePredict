{
 "cells": [
  {
   "cell_type": "code",
   "execution_count": 34,
   "id": "3727a1ad",
   "metadata": {},
   "outputs": [],
   "source": [
    "import os\n",
    "import pandas as pd\n",
    "import requests\n",
    "from zipfile import ZipFile\n",
    "import urllib.request as request\n",
    "import shutil\n",
    "from pathlib import Path\n",
    "from dataclasses import dataclass"
   ]
  },
  {
   "cell_type": "code",
   "execution_count": 36,
   "id": "daa2dc64",
   "metadata": {},
   "outputs": [],
   "source": [
    "os.getcwd()\n",
    "home = \"D:\\DataScience-60\\AttritionRatePredict\""
   ]
  },
  {
   "cell_type": "code",
   "execution_count": 37,
   "id": "c23ef29d",
   "metadata": {},
   "outputs": [],
   "source": [
    "os.chdir(home)"
   ]
  },
  {
   "cell_type": "code",
   "execution_count": 38,
   "id": "66a23c6f",
   "metadata": {},
   "outputs": [
    {
     "data": {
      "text/plain": [
       "'D:\\\\DataScience-60\\\\AttritionRatePredict'"
      ]
     },
     "execution_count": 38,
     "metadata": {},
     "output_type": "execute_result"
    }
   ],
   "source": [
    "os.getcwd()"
   ]
  },
  {
   "cell_type": "code",
   "execution_count": 42,
   "id": "6c369382",
   "metadata": {},
   "outputs": [
    {
     "data": {
      "text/plain": [
       "['CONFIG_FILE_PATH',\n",
       " 'PARAMS_FILE_PATH',\n",
       " 'Path',\n",
       " '__builtins__',\n",
       " '__cached__',\n",
       " '__doc__',\n",
       " '__file__',\n",
       " '__loader__',\n",
       " '__name__',\n",
       " '__package__',\n",
       " '__path__',\n",
       " '__spec__',\n",
       " '__warningregistry__',\n",
       " 'imp']"
      ]
     },
     "execution_count": 42,
     "metadata": {},
     "output_type": "execute_result"
    }
   ],
   "source": [
    "from attritionRate.utils import read_yaml, create_directories\n",
    "from attritionRate.constants import CONFIG_FILE_PATH,PARAMS_FILE_PATH\n",
    "# from attritionRate.constants import MODEL_FILE_PATH,SCHEMA_FILE_PATH\n",
    "import attritionRate.constants\n",
    "\n",
    "dir(attritionRate.constants)\n",
    "# ,MODEL_FILE_PATH\n",
    "# SCHEMA_FILE_PATH"
   ]
  },
  {
   "cell_type": "code",
   "execution_count": null,
   "id": "95966707",
   "metadata": {},
   "outputs": [],
   "source": [
    "# configuration entity: DataIngestionConfig\n",
    "\n",
    "from numpy import source\n",
    "\n",
    "\n",
    "@dataclass(frozen=True)\n",
    "class DataIngestionConfig:\n",
    "    source_dir: Path\n",
    "    ingested_dir: Path\n",
    "    \n",
    "# # configuration entity: DataIngestionConfig\n",
    "\n",
    "class DataIngestion:\n",
    "    def __init__(self, config:DataIngestionConfig):\n",
    "        self.config = read_yaml(CONFIG_FILE_PATH)\n",
    "        artifacts = self.config.artifacts_config\n",
    "        self.artifacts_dir = artifacts.artifacts_dir\n",
    "        create_directories([self.artifacts_dir])\n",
    "        # print(self.config)\n",
    "    \n",
    "    def get_data_ingestion(self):\n",
    "        source_dir = os.getcwd()\n",
    "        source_file = \"Table_1.csv\"\n",
    "        src = os.path.join(source_dir, source_file)\n",
    "        dest_dir = self.config.data_ingestion.destination_dir\n",
    "        data_ingestion_dir = os.path.join(self.artifacts_dir, dest_dir)\n",
    "        create_directories([data_ingestion_dir])\n",
    "        shutil.copy(src, data_ingestion_dir)\n",
    "        data_ingestion = DataIngestionConfig(\n",
    "            source_dir=src,\n",
    "            ingested_dir=data_ingestion_dir,\n",
    "            )\n",
    "        return data_ingestion\n",
    "\n",
    "# dataIng = DataIngestion(CONFIG_FILE_PATH)\n",
    "# print(dataIng.get_data_ingestion())"
   ]
  },
  {
   "cell_type": "code",
   "execution_count": null,
   "id": "5af8c1ed",
   "metadata": {},
   "outputs": [],
   "source": [
    "@dataclass(frozen=True)\n",
    "class DataValidationConfig:\n",
    "    \n"
   ]
  },
  {
   "cell_type": "code",
   "execution_count": null,
   "id": "062526fa",
   "metadata": {},
   "outputs": [
    {
     "data": {
      "text/plain": [
       "ConfigBox({'artifacts_config': {'artifacts_dir': 'artifacts'}, 'data_ingestion': {'destination_dir': 'ingested_data', 'source_file': 'Table_1.csv', 'dataset_url': 'Table_1.csv', 'dataset_dir': 'dataset', 'ingested_dir': 'ingested_data', 'raw_data_dir': 'raw_data', 'dataset': 'Table_1.csv'}, 'data_validation_config': {'clean_data_dir': 'clean_data', 'serialized_obj_dir': 'serialized_obj', 'marketing_compaign_csv_file': 'marketing_compaign.csv'}, 'data_transformation': {'transformed_data_dir': 'transformed_data'}, 'model_training': {'trained_model_dir': 'trained_model', 'trained_model_name': 'model.pkl'}})"
      ]
     },
     "execution_count": 12,
     "metadata": {},
     "output_type": "execute_result"
    }
   ],
   "source": [
    "read_yaml(CONFIG_FILE_PATH)"
   ]
  },
  {
   "cell_type": "code",
   "execution_count": null,
   "id": "e83bd998",
   "metadata": {},
   "outputs": [
    {
     "data": {
      "text/plain": [
       "'D:/DataScience-60/AttritionRatePredict/research/dataIngestion'"
      ]
     },
     "execution_count": 48,
     "metadata": {},
     "output_type": "execute_result"
    }
   ],
   "source": [
    "src = os.path.join(\"D:\\DataScience-60\\AttritionRatePredict\\Table_1.csv\")\n",
    "# dst = os.getcwd()\n",
    "dst = os.path.join(\"D:/DataScience-60/AttritionRatePredict/research/dataIngestion\")\n",
    "shutil.copy(src, dst)\n",
    "dst"
   ]
  }
 ],
 "metadata": {
  "kernelspec": {
   "display_name": "Python 3.9.13 (conda)",
   "language": "python",
   "name": "python3"
  },
  "language_info": {
   "codemirror_mode": {
    "name": "ipython",
    "version": 3
   },
   "file_extension": ".py",
   "mimetype": "text/x-python",
   "name": "python",
   "nbconvert_exporter": "python",
   "pygments_lexer": "ipython3",
   "version": "3.9.13"
  },
  "vscode": {
   "interpreter": {
    "hash": "d206f28065d50634c5d9a8635961150b093b5103a58da2eac4d94e260f184ed8"
   }
  }
 },
 "nbformat": 4,
 "nbformat_minor": 5
}
